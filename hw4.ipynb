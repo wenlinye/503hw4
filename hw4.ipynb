{
 "cells": [
  {
   "cell_type": "raw",
   "metadata": {},
   "source": [
    "---\n",
    "title: \"hw4\"\n",
    "format:\n",
    "  html:\n",
    "    code-fold: true\n",
    "    toc: true\n",
    "    embed-resources: true\n",
    "execute:\n",
    "  echo: true\n",
    "---"
   ]
  },
  {
   "attachments": {},
   "cell_type": "markdown",
   "metadata": {},
   "source": [
    "Data section\n",
    "===================="
   ]
  },
  {
   "attachments": {},
   "cell_type": "markdown",
   "metadata": {},
   "source": [
    "The data available is from the smart meters and plug-level devices of three households, covering power consumption over a period of time. The primary variable of interest in the smart meter data is the sum of real power over all power phases consumed in the household, while the plug data provides appliance-level consumption.\n",
    "I will be focusing on the smart meter data of household 4 specialized in kitchen (measure type 01: Fridge, 02: Kitchen appliances, 08: Microwave ) from June to December 2012. Specifically, and I am interested in exploring the overall electricity consumption pattern of the household and how it changes over time, with a focus on identifying any trends or seasonality in the data."
   ]
  },
  {
   "attachments": {},
   "cell_type": "markdown",
   "metadata": {},
   "source": [
    "Data-science questions\n",
    "============="
   ]
  },
  {
   "attachments": {},
   "cell_type": "markdown",
   "metadata": {},
   "source": [
    "How does the total electricity consumption of each household compare over time, and what are the trends?    "
   ]
  },
  {
   "attachments": {},
   "cell_type": "markdown",
   "metadata": {},
   "source": [
    "How does the electricity consumption of different appliances especially in kitchen for Fridge, Kitchen appliances, and Microwave vary over time in households 4?  "
   ]
  },
  {
   "attachments": {},
   "cell_type": "markdown",
   "metadata": {},
   "source": [
    "Data preparation and EDA\n",
    "====="
   ]
  },
  {
   "cell_type": "markdown",
   "metadata": {},
   "source": [
    "set up dataframe of electricity consumption of different appliances especially in kitchen for Fridge, Kitchen appliances, and Microwave vary over time in households"
   ]
  },
  {
   "cell_type": "code",
   "execution_count": 143,
   "metadata": {},
   "outputs": [],
   "source": [
    "import pandas as pd\n",
    "import numpy as np\n",
    "import glob\n",
    "import os\n",
    "import plotly.graph_objects as go\n",
    "import altair as alt\n",
    "import plotly.io as pio\n",
    "\n",
    "pio.renderers.default = \"plotly_mimetype+notebook_connected\""
   ]
  },
  {
   "cell_type": "code",
   "execution_count": 59,
   "metadata": {},
   "outputs": [],
   "source": [
    "\n",
    "plug01_files = glob.glob(\"./eco/04/01/\" + \"*.csv\")\n",
    "plug02_files = glob.glob(\"./eco/04/02/\" + \"*.csv\")\n",
    "plug08_files = glob.glob(\"./eco/04/08/\" + \"*.csv\")\n",
    "\n",
    "plug01 = []\n",
    "# loop over the list of csv files read in all plugs data for each appliances\n",
    "for f in plug01_files:\n",
    "    # read the csv file\n",
    "    df01 = pd.read_csv(f,names=[\"measurement\"])\n",
    "# replace all missing data with 0\n",
    "    df01 = df01.replace(-1, 0)\n",
    "# calculate the sum of all day measurement\n",
    "    total01 = df01[\"measurement\"].sum()\n",
    "# combine measurement sums together \n",
    "    plug01.append(total01)\n",
    "\n",
    "df01 = pd.DataFrame(plug01)\n",
    "df01.columns = [\"Fridge measurement\"]\n",
    "# create a new column with dates starting from 06/27/2012\n",
    "\n",
    "df01['date'] = pd.date_range(start='2012-06-27', periods=len(df01), freq='D')\n",
    "\n",
    "\n",
    "# create a list of missing dates\n",
    "missing_dates = ['2012-09-06', '2012-09-07', '2012-09-08', '2012-09-09', '2012-09-10', '2012-10-26', '2012-10-27', '2012-10-28', '2012-10-29', '2012-10-30', '2012-10-31', '2012-11-01', '2012-11-02', '2012-11-03', '2012-11-04', '2012-11-05', '2012-11-06']\n",
    "\n",
    "# create a new dataframe with a complete range of dates excluding the missing dates\n",
    "date_range = pd.date_range(start='2012-06-27', end='2013-01-23', freq='D')\n",
    "complete_dates = pd.Index(date_range)\n",
    "missing_dates_index = pd.Index(missing_dates)\n",
    "valid_dates = complete_dates.difference(missing_dates_index)\n",
    "df_date_range = pd.DataFrame({'date': valid_dates})\n",
    "# drop the original date column in df01\n",
    "df01.drop('date', axis=1, inplace=True)\n",
    "\n",
    "# set the date column as the index of df_date_range\n",
    "df_date_range.set_index('date', inplace=True)\n",
    "# add the date column in df_date_range to df01\n",
    "df01['date'] = df_date_range.index\n",
    "\n",
    "# reorder the columns in df01 with the date column at the first position\n",
    "df01 = df01.reindex(columns=['date'] + list(df01.columns[:-1]))\n"
   ]
  },
  {
   "cell_type": "code",
   "execution_count": 55,
   "metadata": {},
   "outputs": [
    {
     "data": {
      "text/html": [
       "<div>\n",
       "<style scoped>\n",
       "    .dataframe tbody tr th:only-of-type {\n",
       "        vertical-align: middle;\n",
       "    }\n",
       "\n",
       "    .dataframe tbody tr th {\n",
       "        vertical-align: top;\n",
       "    }\n",
       "\n",
       "    .dataframe thead th {\n",
       "        text-align: right;\n",
       "    }\n",
       "</style>\n",
       "<table border=\"1\" class=\"dataframe\">\n",
       "  <thead>\n",
       "    <tr style=\"text-align: right;\">\n",
       "      <th></th>\n",
       "      <th>Kitchen appliances measurement</th>\n",
       "    </tr>\n",
       "  </thead>\n",
       "  <tbody>\n",
       "    <tr>\n",
       "      <th>0</th>\n",
       "      <td>6.883157e+05</td>\n",
       "    </tr>\n",
       "    <tr>\n",
       "      <th>1</th>\n",
       "      <td>1.695786e+06</td>\n",
       "    </tr>\n",
       "    <tr>\n",
       "      <th>2</th>\n",
       "      <td>8.464724e+05</td>\n",
       "    </tr>\n",
       "    <tr>\n",
       "      <th>3</th>\n",
       "      <td>7.781294e+05</td>\n",
       "    </tr>\n",
       "    <tr>\n",
       "      <th>4</th>\n",
       "      <td>7.006198e+05</td>\n",
       "    </tr>\n",
       "    <tr>\n",
       "      <th>...</th>\n",
       "      <td>...</td>\n",
       "    </tr>\n",
       "    <tr>\n",
       "      <th>189</th>\n",
       "      <td>9.080765e+05</td>\n",
       "    </tr>\n",
       "    <tr>\n",
       "      <th>190</th>\n",
       "      <td>5.646038e+05</td>\n",
       "    </tr>\n",
       "    <tr>\n",
       "      <th>191</th>\n",
       "      <td>2.163583e+06</td>\n",
       "    </tr>\n",
       "    <tr>\n",
       "      <th>192</th>\n",
       "      <td>7.764368e+05</td>\n",
       "    </tr>\n",
       "    <tr>\n",
       "      <th>193</th>\n",
       "      <td>5.080496e+05</td>\n",
       "    </tr>\n",
       "  </tbody>\n",
       "</table>\n",
       "<p>194 rows × 1 columns</p>\n",
       "</div>"
      ],
      "text/plain": [
       "     Kitchen appliances measurement\n",
       "0                      6.883157e+05\n",
       "1                      1.695786e+06\n",
       "2                      8.464724e+05\n",
       "3                      7.781294e+05\n",
       "4                      7.006198e+05\n",
       "..                              ...\n",
       "189                    9.080765e+05\n",
       "190                    5.646038e+05\n",
       "191                    2.163583e+06\n",
       "192                    7.764368e+05\n",
       "193                    5.080496e+05\n",
       "\n",
       "[194 rows x 1 columns]"
      ]
     },
     "execution_count": 55,
     "metadata": {},
     "output_type": "execute_result"
    }
   ],
   "source": [
    "\n",
    "plug02 = []\n",
    "# loop over the list of csv files read in all plugs data for each appliances\n",
    "for f in plug02_files:\n",
    "    # read the csv file\n",
    "    df02 = pd.read_csv(f,names=[\"measurement\"])\n",
    "# replace all missing data with 0\n",
    "    df02 = df02.replace(-1, 0)\n",
    "# calculate the sum of all day measurement\n",
    "    total02 = df02[\"measurement\"].sum()\n",
    "# combine measurement sums together \n",
    "    plug02.append(total02)\n",
    "\n",
    "df02 = pd.DataFrame(plug02)\n",
    "df02.columns = [\"Kitchen appliances measurement\"]\n",
    "# df02"
   ]
  },
  {
   "cell_type": "code",
   "execution_count": 60,
   "metadata": {},
   "outputs": [
    {
     "data": {
      "text/html": [
       "<div>\n",
       "<style scoped>\n",
       "    .dataframe tbody tr th:only-of-type {\n",
       "        vertical-align: middle;\n",
       "    }\n",
       "\n",
       "    .dataframe tbody tr th {\n",
       "        vertical-align: top;\n",
       "    }\n",
       "\n",
       "    .dataframe thead th {\n",
       "        text-align: right;\n",
       "    }\n",
       "</style>\n",
       "<table border=\"1\" class=\"dataframe\">\n",
       "  <thead>\n",
       "    <tr style=\"text-align: right;\">\n",
       "      <th></th>\n",
       "      <th>Microwave measurement</th>\n",
       "    </tr>\n",
       "  </thead>\n",
       "  <tbody>\n",
       "    <tr>\n",
       "      <th>0</th>\n",
       "      <td>1.517307e+06</td>\n",
       "    </tr>\n",
       "    <tr>\n",
       "      <th>1</th>\n",
       "      <td>1.471807e+06</td>\n",
       "    </tr>\n",
       "    <tr>\n",
       "      <th>2</th>\n",
       "      <td>5.028336e+06</td>\n",
       "    </tr>\n",
       "    <tr>\n",
       "      <th>3</th>\n",
       "      <td>1.406613e+06</td>\n",
       "    </tr>\n",
       "    <tr>\n",
       "      <th>4</th>\n",
       "      <td>4.126534e+05</td>\n",
       "    </tr>\n",
       "    <tr>\n",
       "      <th>...</th>\n",
       "      <td>...</td>\n",
       "    </tr>\n",
       "    <tr>\n",
       "      <th>189</th>\n",
       "      <td>4.988689e+05</td>\n",
       "    </tr>\n",
       "    <tr>\n",
       "      <th>190</th>\n",
       "      <td>5.094321e+05</td>\n",
       "    </tr>\n",
       "    <tr>\n",
       "      <th>191</th>\n",
       "      <td>1.108172e+06</td>\n",
       "    </tr>\n",
       "    <tr>\n",
       "      <th>192</th>\n",
       "      <td>1.008480e+06</td>\n",
       "    </tr>\n",
       "    <tr>\n",
       "      <th>193</th>\n",
       "      <td>7.885643e+05</td>\n",
       "    </tr>\n",
       "  </tbody>\n",
       "</table>\n",
       "<p>194 rows × 1 columns</p>\n",
       "</div>"
      ],
      "text/plain": [
       "     Microwave measurement\n",
       "0             1.517307e+06\n",
       "1             1.471807e+06\n",
       "2             5.028336e+06\n",
       "3             1.406613e+06\n",
       "4             4.126534e+05\n",
       "..                     ...\n",
       "189           4.988689e+05\n",
       "190           5.094321e+05\n",
       "191           1.108172e+06\n",
       "192           1.008480e+06\n",
       "193           7.885643e+05\n",
       "\n",
       "[194 rows x 1 columns]"
      ]
     },
     "execution_count": 60,
     "metadata": {},
     "output_type": "execute_result"
    }
   ],
   "source": [
    "plug08 = []\n",
    "# loop over the list of csv files read in all plugs data for each appliances\n",
    "for f in plug08_files:\n",
    "    # read the csv file\n",
    "    df08 = pd.read_csv(f,names=[\"measurement\"])\n",
    "# replace all missing data with 0\n",
    "    df08 = df08.replace(-1, 0)\n",
    "# calculate the sum of all day measurement\n",
    "    total08 = df08[\"measurement\"].sum()\n",
    "# combine measurement sums together \n",
    "    plug08.append(total08)\n",
    "\n",
    "df08 = pd.DataFrame(plug08)\n",
    "df08.columns = [\"Microwave measurement\"]\n",
    "# df08"
   ]
  },
  {
   "attachments": {},
   "cell_type": "markdown",
   "metadata": {},
   "source": [
    "### convert Joules per day to kWh per day for all the measurement column"
   ]
  },
  {
   "cell_type": "code",
   "execution_count": 141,
   "metadata": {},
   "outputs": [
    {
     "name": "stdout",
     "output_type": "stream",
     "text": [
      "          date  Fridge measurement  Kitchen appliances measurement  \\\n",
      "0   2012-06-27                0.73                            0.19   \n",
      "1   2012-06-28                0.65                            0.47   \n",
      "2   2012-06-29                0.61                            0.24   \n",
      "3   2012-06-30                0.86                            0.22   \n",
      "4   2012-07-01                0.77                            0.19   \n",
      "..         ...                 ...                             ...   \n",
      "189 2013-01-19                0.54                            0.25   \n",
      "190 2013-01-20                0.52                            0.16   \n",
      "191 2013-01-21                0.52                            0.60   \n",
      "192 2013-01-22                0.51                            0.22   \n",
      "193 2013-01-23                0.38                            0.14   \n",
      "\n",
      "     Microwave measurement  \n",
      "0                     0.42  \n",
      "1                     0.41  \n",
      "2                     1.40  \n",
      "3                     0.39  \n",
      "4                     0.11  \n",
      "..                     ...  \n",
      "189                   0.14  \n",
      "190                   0.14  \n",
      "191                   0.31  \n",
      "192                   0.28  \n",
      "193                   0.22  \n",
      "\n",
      "[194 rows x 4 columns]\n"
     ]
    }
   ],
   "source": [
    "# concatenate columns from df01, df02, and df08 together\n",
    "df_combined = pd.concat([df01, df02, df08], axis=1)\n",
    "\n",
    "# convert Joules per day to kWh per day for the Fridge measurement column\n",
    "df_combined['Fridge measurement'] = df_combined['Fridge measurement'] / 3600000\n",
    "\n",
    "# convert Joules per day to kWh per day for the Kitchen appliances measurement column\n",
    "df_combined['Kitchen appliances measurement'] = df_combined['Kitchen appliances measurement'] / 3600000\n",
    "\n",
    "# convert Joules per day to kWh per day for the Microwave measurement column\n",
    "df_combined['Microwave measurement'] = df_combined['Microwave measurement'] / 3600000\n",
    "\n",
    "# round all measurements to 2 decimal places\n",
    "df_combined = df_combined.round(2)\n",
    "\n",
    "# print the resulting dataframe\n",
    "print(df_combined)\n",
    "\n",
    "# save df_combined as a CSV file\n",
    "df_combined.to_csv(\"combined_data.csv\", index=False)\n"
   ]
  },
  {
   "attachments": {},
   "cell_type": "markdown",
   "metadata": {},
   "source": [
    "Results section\n",
    "============="
   ]
  },
  {
   "attachments": {},
   "cell_type": "markdown",
   "metadata": {},
   "source": [
    "### A rationale for your design decisions\n"
   ]
  },
  {
   "attachments": {},
   "cell_type": "markdown",
   "metadata": {},
   "source": [
    "The first visualization could show the electricity consumption over time for all kitchen appliances measured with smart plugs in the three households. The x-axis would represent time (e.g. days), and the y-axis would represent power consumption in watts. The different lines on the plot would correspond to the different appliances, and the plot could potentially have a dropdown or interactive legend to toggle the different appliances on and off. This would allow users to explore how the electricity consumption of different kitchen appliances varies over time in the 4 household."
   ]
  },
  {
   "attachments": {},
   "cell_type": "markdown",
   "metadata": {},
   "source": [
    "The second visualization could show the aggregate electricity consumption (powerallphases) over time for each of the three households. The x-axis would represent time (e.g. in hours or days), and the y-axis would represent the total electricity consumption in watts or kWh. The plot could have three lines, one for each household, with different colors or styles to distinguish them. Additionally, the plot could include a rolling average or trendline to highlight any patterns or trends in the data. This visualization would allow users to compare the overall electricity consumption of the three households and explore any differences or similarities over time."
   ]
  },
  {
   "attachments": {},
   "cell_type": "markdown",
   "metadata": {},
   "source": [
    "### Visualizations"
   ]
  },
  {
   "attachments": {},
   "cell_type": "markdown",
   "metadata": {},
   "source": [
    "In this code, we first import the necessary modules from Plotly. We then create a subplot for each appliance using the make_subplots function, with one row and three columns. We also set the subplot titles to be 'Fridge', 'Kitchen Appliances', and 'Microwave'.\n",
    "\n",
    "We then plot the data for each appliance using the add_trace method of the go.Scatter class. We specify the x and y data for each trace, as well as a name for each trace.\n",
    "\n",
    "Next, we set the x-axis title using the update_xaxes method, and set the y-axis title for each subplot using the update_yaxes method. We also add a title to the plot using the update_layout method."
   ]
  },
  {
   "cell_type": "code",
   "execution_count": 138,
   "metadata": {},
   "outputs": [
    {
     "data": {
      "application/vnd.plotly.v1+json": {
       "config": {
        "plotlyServerURL": "https://plot.ly"
       },
       "data": [
        {
         "name": "Fridge",
         "type": "scatter",
         "x": [
          "2012-06-27T00:00:00",
          "2012-06-28T00:00:00",
          "2012-06-29T00:00:00",
          "2012-06-30T00:00:00",
          "2012-07-01T00:00:00",
          "2012-07-02T00:00:00",
          "2012-07-03T00:00:00",
          "2012-07-04T00:00:00",
          "2012-07-05T00:00:00",
          "2012-07-06T00:00:00",
          "2012-07-07T00:00:00",
          "2012-07-08T00:00:00",
          "2012-07-09T00:00:00",
          "2012-07-10T00:00:00",
          "2012-07-11T00:00:00",
          "2012-07-12T00:00:00",
          "2012-07-13T00:00:00",
          "2012-07-14T00:00:00",
          "2012-07-15T00:00:00",
          "2012-07-16T00:00:00",
          "2012-07-17T00:00:00",
          "2012-07-18T00:00:00",
          "2012-07-19T00:00:00",
          "2012-07-20T00:00:00",
          "2012-07-21T00:00:00",
          "2012-07-22T00:00:00",
          "2012-07-23T00:00:00",
          "2012-07-24T00:00:00",
          "2012-07-25T00:00:00",
          "2012-07-26T00:00:00",
          "2012-07-27T00:00:00",
          "2012-07-28T00:00:00",
          "2012-07-29T00:00:00",
          "2012-07-30T00:00:00",
          "2012-07-31T00:00:00",
          "2012-08-01T00:00:00",
          "2012-08-02T00:00:00",
          "2012-08-03T00:00:00",
          "2012-08-04T00:00:00",
          "2012-08-05T00:00:00",
          "2012-08-06T00:00:00",
          "2012-08-07T00:00:00",
          "2012-08-08T00:00:00",
          "2012-08-09T00:00:00",
          "2012-08-10T00:00:00",
          "2012-08-11T00:00:00",
          "2012-08-12T00:00:00",
          "2012-08-13T00:00:00",
          "2012-08-14T00:00:00",
          "2012-08-15T00:00:00",
          "2012-08-16T00:00:00",
          "2012-08-17T00:00:00",
          "2012-08-18T00:00:00",
          "2012-08-19T00:00:00",
          "2012-08-20T00:00:00",
          "2012-08-21T00:00:00",
          "2012-08-22T00:00:00",
          "2012-08-23T00:00:00",
          "2012-08-24T00:00:00",
          "2012-08-25T00:00:00",
          "2012-08-26T00:00:00",
          "2012-08-27T00:00:00",
          "2012-08-28T00:00:00",
          "2012-08-29T00:00:00",
          "2012-08-30T00:00:00",
          "2012-08-31T00:00:00",
          "2012-09-01T00:00:00",
          "2012-09-02T00:00:00",
          "2012-09-03T00:00:00",
          "2012-09-04T00:00:00",
          "2012-09-05T00:00:00",
          "2012-09-11T00:00:00",
          "2012-09-12T00:00:00",
          "2012-09-13T00:00:00",
          "2012-09-14T00:00:00",
          "2012-09-15T00:00:00",
          "2012-09-16T00:00:00",
          "2012-09-17T00:00:00",
          "2012-09-18T00:00:00",
          "2012-09-19T00:00:00",
          "2012-09-20T00:00:00",
          "2012-09-21T00:00:00",
          "2012-09-22T00:00:00",
          "2012-09-23T00:00:00",
          "2012-09-24T00:00:00",
          "2012-09-25T00:00:00",
          "2012-09-26T00:00:00",
          "2012-09-27T00:00:00",
          "2012-09-28T00:00:00",
          "2012-09-29T00:00:00",
          "2012-09-30T00:00:00",
          "2012-10-01T00:00:00",
          "2012-10-02T00:00:00",
          "2012-10-03T00:00:00",
          "2012-10-04T00:00:00",
          "2012-10-05T00:00:00",
          "2012-10-06T00:00:00",
          "2012-10-07T00:00:00",
          "2012-10-08T00:00:00",
          "2012-10-09T00:00:00",
          "2012-10-10T00:00:00",
          "2012-10-11T00:00:00",
          "2012-10-12T00:00:00",
          "2012-10-13T00:00:00",
          "2012-10-14T00:00:00",
          "2012-10-15T00:00:00",
          "2012-10-16T00:00:00",
          "2012-10-17T00:00:00",
          "2012-10-18T00:00:00",
          "2012-10-19T00:00:00",
          "2012-10-20T00:00:00",
          "2012-10-21T00:00:00",
          "2012-10-22T00:00:00",
          "2012-10-23T00:00:00",
          "2012-10-24T00:00:00",
          "2012-10-25T00:00:00",
          "2012-11-07T00:00:00",
          "2012-11-08T00:00:00",
          "2012-11-09T00:00:00",
          "2012-11-10T00:00:00",
          "2012-11-11T00:00:00",
          "2012-11-12T00:00:00",
          "2012-11-13T00:00:00",
          "2012-11-14T00:00:00",
          "2012-11-15T00:00:00",
          "2012-11-16T00:00:00",
          "2012-11-17T00:00:00",
          "2012-11-18T00:00:00",
          "2012-11-19T00:00:00",
          "2012-11-20T00:00:00",
          "2012-11-21T00:00:00",
          "2012-11-22T00:00:00",
          "2012-11-23T00:00:00",
          "2012-11-24T00:00:00",
          "2012-11-25T00:00:00",
          "2012-11-26T00:00:00",
          "2012-11-27T00:00:00",
          "2012-11-28T00:00:00",
          "2012-11-29T00:00:00",
          "2012-11-30T00:00:00",
          "2012-12-01T00:00:00",
          "2012-12-02T00:00:00",
          "2012-12-03T00:00:00",
          "2012-12-04T00:00:00",
          "2012-12-05T00:00:00",
          "2012-12-06T00:00:00",
          "2012-12-07T00:00:00",
          "2012-12-08T00:00:00",
          "2012-12-09T00:00:00",
          "2012-12-10T00:00:00",
          "2012-12-11T00:00:00",
          "2012-12-12T00:00:00",
          "2012-12-13T00:00:00",
          "2012-12-14T00:00:00",
          "2012-12-15T00:00:00",
          "2012-12-16T00:00:00",
          "2012-12-17T00:00:00",
          "2012-12-18T00:00:00",
          "2012-12-19T00:00:00",
          "2012-12-20T00:00:00",
          "2012-12-21T00:00:00",
          "2012-12-22T00:00:00",
          "2012-12-23T00:00:00",
          "2012-12-24T00:00:00",
          "2012-12-25T00:00:00",
          "2012-12-26T00:00:00",
          "2012-12-27T00:00:00",
          "2012-12-28T00:00:00",
          "2012-12-29T00:00:00",
          "2012-12-30T00:00:00",
          "2012-12-31T00:00:00",
          "2013-01-01T00:00:00",
          "2013-01-02T00:00:00",
          "2013-01-03T00:00:00",
          "2013-01-04T00:00:00",
          "2013-01-05T00:00:00",
          "2013-01-06T00:00:00",
          "2013-01-07T00:00:00",
          "2013-01-08T00:00:00",
          "2013-01-09T00:00:00",
          "2013-01-10T00:00:00",
          "2013-01-11T00:00:00",
          "2013-01-12T00:00:00",
          "2013-01-13T00:00:00",
          "2013-01-14T00:00:00",
          "2013-01-15T00:00:00",
          "2013-01-16T00:00:00",
          "2013-01-17T00:00:00",
          "2013-01-18T00:00:00",
          "2013-01-19T00:00:00",
          "2013-01-20T00:00:00",
          "2013-01-21T00:00:00",
          "2013-01-22T00:00:00",
          "2013-01-23T00:00:00"
         ],
         "xaxis": "x",
         "y": [
          0.73,
          0.65,
          0.61,
          0.86,
          0.77,
          0.73,
          0.75,
          0.71,
          0.74,
          0.65,
          0.67,
          0.69,
          0.74,
          0.74,
          0.73,
          0.7,
          0.66,
          0.69,
          0.59,
          0.61,
          0.61,
          0.64,
          0.65,
          0.68,
          0.62,
          0.65,
          0.62,
          0.76,
          0.73,
          0.8,
          0.84,
          0.92,
          0.79,
          0.74,
          0.77,
          0.89,
          0.91,
          0.86,
          0.92,
          0.87,
          0.81,
          0.73,
          0.83,
          0.76,
          0.72,
          0.76,
          0.81,
          0.8,
          0.81,
          0.86,
          0.93,
          0.76,
          0.85,
          0.89,
          0.93,
          0.98,
          0.98,
          0.97,
          0.88,
          0.87,
          0.79,
          0.76,
          0.79,
          0.81,
          0.81,
          0.59,
          0.61,
          0.59,
          0.65,
          0.66,
          0.21,
          0.42,
          0.79,
          0.65,
          0.24,
          0.16,
          0.63,
          0.67,
          0.67,
          0.71,
          0.62,
          0.6,
          0.63,
          0.66,
          0.66,
          0.64,
          0.63,
          0.63,
          0.63,
          0.65,
          0.58,
          0.66,
          0.57,
          0.59,
          0.6,
          0.63,
          0.59,
          0.68,
          0.65,
          0.64,
          0.67,
          0.65,
          0.62,
          0.59,
          0.59,
          0.63,
          0.58,
          0.64,
          0.65,
          0.63,
          0.66,
          0.63,
          0.67,
          0.68,
          0.63,
          0.19,
          0.17,
          0.62,
          0.61,
          0.63,
          0.61,
          0.63,
          0.63,
          0.65,
          0.6,
          0.6,
          0.61,
          0.56,
          0.63,
          0.62,
          0.65,
          0.6,
          0.57,
          0.56,
          0.65,
          0.64,
          0.64,
          0.7,
          0.58,
          0.56,
          0.6,
          0.55,
          0.58,
          0.6,
          0.61,
          0.62,
          0.61,
          0.57,
          0.58,
          0.59,
          0.62,
          0.6,
          0.46,
          0.57,
          0.58,
          0.62,
          0.65,
          0.61,
          0.64,
          0.6,
          0.55,
          0.56,
          0.58,
          0.64,
          0.6,
          0.61,
          0.56,
          0.56,
          0.56,
          0.6,
          0.59,
          0.59,
          0.58,
          0.58,
          0.55,
          0.56,
          0.55,
          0.59,
          0.56,
          0.57,
          0.56,
          0.54,
          0.52,
          0.56,
          0.58,
          0.55,
          0.52,
          0.53,
          0.52,
          0.54,
          0.52,
          0.52,
          0.51,
          0.38
         ],
         "yaxis": "y"
        },
        {
         "name": "Kitchen Appliances",
         "type": "scatter",
         "x": [
          "2012-06-27T00:00:00",
          "2012-06-28T00:00:00",
          "2012-06-29T00:00:00",
          "2012-06-30T00:00:00",
          "2012-07-01T00:00:00",
          "2012-07-02T00:00:00",
          "2012-07-03T00:00:00",
          "2012-07-04T00:00:00",
          "2012-07-05T00:00:00",
          "2012-07-06T00:00:00",
          "2012-07-07T00:00:00",
          "2012-07-08T00:00:00",
          "2012-07-09T00:00:00",
          "2012-07-10T00:00:00",
          "2012-07-11T00:00:00",
          "2012-07-12T00:00:00",
          "2012-07-13T00:00:00",
          "2012-07-14T00:00:00",
          "2012-07-15T00:00:00",
          "2012-07-16T00:00:00",
          "2012-07-17T00:00:00",
          "2012-07-18T00:00:00",
          "2012-07-19T00:00:00",
          "2012-07-20T00:00:00",
          "2012-07-21T00:00:00",
          "2012-07-22T00:00:00",
          "2012-07-23T00:00:00",
          "2012-07-24T00:00:00",
          "2012-07-25T00:00:00",
          "2012-07-26T00:00:00",
          "2012-07-27T00:00:00",
          "2012-07-28T00:00:00",
          "2012-07-29T00:00:00",
          "2012-07-30T00:00:00",
          "2012-07-31T00:00:00",
          "2012-08-01T00:00:00",
          "2012-08-02T00:00:00",
          "2012-08-03T00:00:00",
          "2012-08-04T00:00:00",
          "2012-08-05T00:00:00",
          "2012-08-06T00:00:00",
          "2012-08-07T00:00:00",
          "2012-08-08T00:00:00",
          "2012-08-09T00:00:00",
          "2012-08-10T00:00:00",
          "2012-08-11T00:00:00",
          "2012-08-12T00:00:00",
          "2012-08-13T00:00:00",
          "2012-08-14T00:00:00",
          "2012-08-15T00:00:00",
          "2012-08-16T00:00:00",
          "2012-08-17T00:00:00",
          "2012-08-18T00:00:00",
          "2012-08-19T00:00:00",
          "2012-08-20T00:00:00",
          "2012-08-21T00:00:00",
          "2012-08-22T00:00:00",
          "2012-08-23T00:00:00",
          "2012-08-24T00:00:00",
          "2012-08-25T00:00:00",
          "2012-08-26T00:00:00",
          "2012-08-27T00:00:00",
          "2012-08-28T00:00:00",
          "2012-08-29T00:00:00",
          "2012-08-30T00:00:00",
          "2012-08-31T00:00:00",
          "2012-09-01T00:00:00",
          "2012-09-02T00:00:00",
          "2012-09-03T00:00:00",
          "2012-09-04T00:00:00",
          "2012-09-05T00:00:00",
          "2012-09-11T00:00:00",
          "2012-09-12T00:00:00",
          "2012-09-13T00:00:00",
          "2012-09-14T00:00:00",
          "2012-09-15T00:00:00",
          "2012-09-16T00:00:00",
          "2012-09-17T00:00:00",
          "2012-09-18T00:00:00",
          "2012-09-19T00:00:00",
          "2012-09-20T00:00:00",
          "2012-09-21T00:00:00",
          "2012-09-22T00:00:00",
          "2012-09-23T00:00:00",
          "2012-09-24T00:00:00",
          "2012-09-25T00:00:00",
          "2012-09-26T00:00:00",
          "2012-09-27T00:00:00",
          "2012-09-28T00:00:00",
          "2012-09-29T00:00:00",
          "2012-09-30T00:00:00",
          "2012-10-01T00:00:00",
          "2012-10-02T00:00:00",
          "2012-10-03T00:00:00",
          "2012-10-04T00:00:00",
          "2012-10-05T00:00:00",
          "2012-10-06T00:00:00",
          "2012-10-07T00:00:00",
          "2012-10-08T00:00:00",
          "2012-10-09T00:00:00",
          "2012-10-10T00:00:00",
          "2012-10-11T00:00:00",
          "2012-10-12T00:00:00",
          "2012-10-13T00:00:00",
          "2012-10-14T00:00:00",
          "2012-10-15T00:00:00",
          "2012-10-16T00:00:00",
          "2012-10-17T00:00:00",
          "2012-10-18T00:00:00",
          "2012-10-19T00:00:00",
          "2012-10-20T00:00:00",
          "2012-10-21T00:00:00",
          "2012-10-22T00:00:00",
          "2012-10-23T00:00:00",
          "2012-10-24T00:00:00",
          "2012-10-25T00:00:00",
          "2012-11-07T00:00:00",
          "2012-11-08T00:00:00",
          "2012-11-09T00:00:00",
          "2012-11-10T00:00:00",
          "2012-11-11T00:00:00",
          "2012-11-12T00:00:00",
          "2012-11-13T00:00:00",
          "2012-11-14T00:00:00",
          "2012-11-15T00:00:00",
          "2012-11-16T00:00:00",
          "2012-11-17T00:00:00",
          "2012-11-18T00:00:00",
          "2012-11-19T00:00:00",
          "2012-11-20T00:00:00",
          "2012-11-21T00:00:00",
          "2012-11-22T00:00:00",
          "2012-11-23T00:00:00",
          "2012-11-24T00:00:00",
          "2012-11-25T00:00:00",
          "2012-11-26T00:00:00",
          "2012-11-27T00:00:00",
          "2012-11-28T00:00:00",
          "2012-11-29T00:00:00",
          "2012-11-30T00:00:00",
          "2012-12-01T00:00:00",
          "2012-12-02T00:00:00",
          "2012-12-03T00:00:00",
          "2012-12-04T00:00:00",
          "2012-12-05T00:00:00",
          "2012-12-06T00:00:00",
          "2012-12-07T00:00:00",
          "2012-12-08T00:00:00",
          "2012-12-09T00:00:00",
          "2012-12-10T00:00:00",
          "2012-12-11T00:00:00",
          "2012-12-12T00:00:00",
          "2012-12-13T00:00:00",
          "2012-12-14T00:00:00",
          "2012-12-15T00:00:00",
          "2012-12-16T00:00:00",
          "2012-12-17T00:00:00",
          "2012-12-18T00:00:00",
          "2012-12-19T00:00:00",
          "2012-12-20T00:00:00",
          "2012-12-21T00:00:00",
          "2012-12-22T00:00:00",
          "2012-12-23T00:00:00",
          "2012-12-24T00:00:00",
          "2012-12-25T00:00:00",
          "2012-12-26T00:00:00",
          "2012-12-27T00:00:00",
          "2012-12-28T00:00:00",
          "2012-12-29T00:00:00",
          "2012-12-30T00:00:00",
          "2012-12-31T00:00:00",
          "2013-01-01T00:00:00",
          "2013-01-02T00:00:00",
          "2013-01-03T00:00:00",
          "2013-01-04T00:00:00",
          "2013-01-05T00:00:00",
          "2013-01-06T00:00:00",
          "2013-01-07T00:00:00",
          "2013-01-08T00:00:00",
          "2013-01-09T00:00:00",
          "2013-01-10T00:00:00",
          "2013-01-11T00:00:00",
          "2013-01-12T00:00:00",
          "2013-01-13T00:00:00",
          "2013-01-14T00:00:00",
          "2013-01-15T00:00:00",
          "2013-01-16T00:00:00",
          "2013-01-17T00:00:00",
          "2013-01-18T00:00:00",
          "2013-01-19T00:00:00",
          "2013-01-20T00:00:00",
          "2013-01-21T00:00:00",
          "2013-01-22T00:00:00",
          "2013-01-23T00:00:00"
         ],
         "xaxis": "x2",
         "y": [
          0.19,
          0.47,
          0.24,
          0.22,
          0.19,
          0.22,
          0.53,
          0.19,
          0.1,
          0.21,
          0.13,
          0.22,
          0.15,
          0.22,
          0.3,
          0.2,
          0.38,
          0.12,
          0.01,
          0.01,
          0.01,
          0.01,
          0.01,
          0.01,
          0.01,
          0.09,
          0.23,
          0.1,
          0.01,
          0.01,
          0.01,
          0.09,
          0.07,
          0.23,
          0.43,
          0.1,
          0.2,
          0.5,
          0.08,
          0,
          0.14,
          0.11,
          0.05,
          0.18,
          0.24,
          0.09,
          0.2,
          0.22,
          0.56,
          0.2,
          0.23,
          0.29,
          0.14,
          0.16,
          0.28,
          0.53,
          0.1,
          0.1,
          0.11,
          0.26,
          0.23,
          0.4,
          0.52,
          0.19,
          0.26,
          0.01,
          0.14,
          0.09,
          0.22,
          0.32,
          0.09,
          0.11,
          0.2,
          0.18,
          0.09,
          0.08,
          0.23,
          0.18,
          0.23,
          0.18,
          0.29,
          0.32,
          0.3,
          0.23,
          0.23,
          0.24,
          0.59,
          0.2,
          0.26,
          0.19,
          0.39,
          0.11,
          0.01,
          0.01,
          0.13,
          0.32,
          0.19,
          0.3,
          0.52,
          0.34,
          0.18,
          0.17,
          0.19,
          0.13,
          0.09,
          0.14,
          0.16,
          0.27,
          0.17,
          0.44,
          0.22,
          0.13,
          0.23,
          0.21,
          0.19,
          0.09,
          0.1,
          0.27,
          0.27,
          0.15,
          0.57,
          0.19,
          0.18,
          0.32,
          0.19,
          0.3,
          0.2,
          0.13,
          0.58,
          0.22,
          0.23,
          0.41,
          0.43,
          0.23,
          0.31,
          0.17,
          0.27,
          0.29,
          0.19,
          0.21,
          0.23,
          0.2,
          0.6,
          0.26,
          0.21,
          0.26,
          0.21,
          0.18,
          0.26,
          0.29,
          0.31,
          0.53,
          0.29,
          0.22,
          0.26,
          0.62,
          0.25,
          0.21,
          0.25,
          0.19,
          0.22,
          0.21,
          0.34,
          0.13,
          0.2,
          0.57,
          0.17,
          0.18,
          0.26,
          0.21,
          0.09,
          0.62,
          0.19,
          0.21,
          0.17,
          0.18,
          0.22,
          0.25,
          0.17,
          0.18,
          0.44,
          0.2,
          0.22,
          0.15,
          0.36,
          0.25,
          0.18,
          0.6,
          0.19,
          0.25,
          0.16,
          0.6,
          0.22,
          0.14
         ],
         "yaxis": "y2"
        },
        {
         "name": "Microwave",
         "type": "scatter",
         "x": [
          "2012-06-27T00:00:00",
          "2012-06-28T00:00:00",
          "2012-06-29T00:00:00",
          "2012-06-30T00:00:00",
          "2012-07-01T00:00:00",
          "2012-07-02T00:00:00",
          "2012-07-03T00:00:00",
          "2012-07-04T00:00:00",
          "2012-07-05T00:00:00",
          "2012-07-06T00:00:00",
          "2012-07-07T00:00:00",
          "2012-07-08T00:00:00",
          "2012-07-09T00:00:00",
          "2012-07-10T00:00:00",
          "2012-07-11T00:00:00",
          "2012-07-12T00:00:00",
          "2012-07-13T00:00:00",
          "2012-07-14T00:00:00",
          "2012-07-15T00:00:00",
          "2012-07-16T00:00:00",
          "2012-07-17T00:00:00",
          "2012-07-18T00:00:00",
          "2012-07-19T00:00:00",
          "2012-07-20T00:00:00",
          "2012-07-21T00:00:00",
          "2012-07-22T00:00:00",
          "2012-07-23T00:00:00",
          "2012-07-24T00:00:00",
          "2012-07-25T00:00:00",
          "2012-07-26T00:00:00",
          "2012-07-27T00:00:00",
          "2012-07-28T00:00:00",
          "2012-07-29T00:00:00",
          "2012-07-30T00:00:00",
          "2012-07-31T00:00:00",
          "2012-08-01T00:00:00",
          "2012-08-02T00:00:00",
          "2012-08-03T00:00:00",
          "2012-08-04T00:00:00",
          "2012-08-05T00:00:00",
          "2012-08-06T00:00:00",
          "2012-08-07T00:00:00",
          "2012-08-08T00:00:00",
          "2012-08-09T00:00:00",
          "2012-08-10T00:00:00",
          "2012-08-11T00:00:00",
          "2012-08-12T00:00:00",
          "2012-08-13T00:00:00",
          "2012-08-14T00:00:00",
          "2012-08-15T00:00:00",
          "2012-08-16T00:00:00",
          "2012-08-17T00:00:00",
          "2012-08-18T00:00:00",
          "2012-08-19T00:00:00",
          "2012-08-20T00:00:00",
          "2012-08-21T00:00:00",
          "2012-08-22T00:00:00",
          "2012-08-23T00:00:00",
          "2012-08-24T00:00:00",
          "2012-08-25T00:00:00",
          "2012-08-26T00:00:00",
          "2012-08-27T00:00:00",
          "2012-08-28T00:00:00",
          "2012-08-29T00:00:00",
          "2012-08-30T00:00:00",
          "2012-08-31T00:00:00",
          "2012-09-01T00:00:00",
          "2012-09-02T00:00:00",
          "2012-09-03T00:00:00",
          "2012-09-04T00:00:00",
          "2012-09-05T00:00:00",
          "2012-09-11T00:00:00",
          "2012-09-12T00:00:00",
          "2012-09-13T00:00:00",
          "2012-09-14T00:00:00",
          "2012-09-15T00:00:00",
          "2012-09-16T00:00:00",
          "2012-09-17T00:00:00",
          "2012-09-18T00:00:00",
          "2012-09-19T00:00:00",
          "2012-09-20T00:00:00",
          "2012-09-21T00:00:00",
          "2012-09-22T00:00:00",
          "2012-09-23T00:00:00",
          "2012-09-24T00:00:00",
          "2012-09-25T00:00:00",
          "2012-09-26T00:00:00",
          "2012-09-27T00:00:00",
          "2012-09-28T00:00:00",
          "2012-09-29T00:00:00",
          "2012-09-30T00:00:00",
          "2012-10-01T00:00:00",
          "2012-10-02T00:00:00",
          "2012-10-03T00:00:00",
          "2012-10-04T00:00:00",
          "2012-10-05T00:00:00",
          "2012-10-06T00:00:00",
          "2012-10-07T00:00:00",
          "2012-10-08T00:00:00",
          "2012-10-09T00:00:00",
          "2012-10-10T00:00:00",
          "2012-10-11T00:00:00",
          "2012-10-12T00:00:00",
          "2012-10-13T00:00:00",
          "2012-10-14T00:00:00",
          "2012-10-15T00:00:00",
          "2012-10-16T00:00:00",
          "2012-10-17T00:00:00",
          "2012-10-18T00:00:00",
          "2012-10-19T00:00:00",
          "2012-10-20T00:00:00",
          "2012-10-21T00:00:00",
          "2012-10-22T00:00:00",
          "2012-10-23T00:00:00",
          "2012-10-24T00:00:00",
          "2012-10-25T00:00:00",
          "2012-11-07T00:00:00",
          "2012-11-08T00:00:00",
          "2012-11-09T00:00:00",
          "2012-11-10T00:00:00",
          "2012-11-11T00:00:00",
          "2012-11-12T00:00:00",
          "2012-11-13T00:00:00",
          "2012-11-14T00:00:00",
          "2012-11-15T00:00:00",
          "2012-11-16T00:00:00",
          "2012-11-17T00:00:00",
          "2012-11-18T00:00:00",
          "2012-11-19T00:00:00",
          "2012-11-20T00:00:00",
          "2012-11-21T00:00:00",
          "2012-11-22T00:00:00",
          "2012-11-23T00:00:00",
          "2012-11-24T00:00:00",
          "2012-11-25T00:00:00",
          "2012-11-26T00:00:00",
          "2012-11-27T00:00:00",
          "2012-11-28T00:00:00",
          "2012-11-29T00:00:00",
          "2012-11-30T00:00:00",
          "2012-12-01T00:00:00",
          "2012-12-02T00:00:00",
          "2012-12-03T00:00:00",
          "2012-12-04T00:00:00",
          "2012-12-05T00:00:00",
          "2012-12-06T00:00:00",
          "2012-12-07T00:00:00",
          "2012-12-08T00:00:00",
          "2012-12-09T00:00:00",
          "2012-12-10T00:00:00",
          "2012-12-11T00:00:00",
          "2012-12-12T00:00:00",
          "2012-12-13T00:00:00",
          "2012-12-14T00:00:00",
          "2012-12-15T00:00:00",
          "2012-12-16T00:00:00",
          "2012-12-17T00:00:00",
          "2012-12-18T00:00:00",
          "2012-12-19T00:00:00",
          "2012-12-20T00:00:00",
          "2012-12-21T00:00:00",
          "2012-12-22T00:00:00",
          "2012-12-23T00:00:00",
          "2012-12-24T00:00:00",
          "2012-12-25T00:00:00",
          "2012-12-26T00:00:00",
          "2012-12-27T00:00:00",
          "2012-12-28T00:00:00",
          "2012-12-29T00:00:00",
          "2012-12-30T00:00:00",
          "2012-12-31T00:00:00",
          "2013-01-01T00:00:00",
          "2013-01-02T00:00:00",
          "2013-01-03T00:00:00",
          "2013-01-04T00:00:00",
          "2013-01-05T00:00:00",
          "2013-01-06T00:00:00",
          "2013-01-07T00:00:00",
          "2013-01-08T00:00:00",
          "2013-01-09T00:00:00",
          "2013-01-10T00:00:00",
          "2013-01-11T00:00:00",
          "2013-01-12T00:00:00",
          "2013-01-13T00:00:00",
          "2013-01-14T00:00:00",
          "2013-01-15T00:00:00",
          "2013-01-16T00:00:00",
          "2013-01-17T00:00:00",
          "2013-01-18T00:00:00",
          "2013-01-19T00:00:00",
          "2013-01-20T00:00:00",
          "2013-01-21T00:00:00",
          "2013-01-22T00:00:00",
          "2013-01-23T00:00:00"
         ],
         "xaxis": "x3",
         "y": [
          0.42,
          0.41,
          1.4,
          0.39,
          0.11,
          0.17,
          0.14,
          0.13,
          0.23,
          0.37,
          0.13,
          0.21,
          0.91,
          0.26,
          0.32,
          0.31,
          0.63,
          0.11,
          0.08,
          0.09,
          0.09,
          0.09,
          0.09,
          0.09,
          0.09,
          0.25,
          0.17,
          0.09,
          0.11,
          0.09,
          0.1,
          0.15,
          0.09,
          0.28,
          0.47,
          0.51,
          0.36,
          0.26,
          0.38,
          0.13,
          0.51,
          0.77,
          0.5,
          0.36,
          0.24,
          0.14,
          0.96,
          0.25,
          0.56,
          0.38,
          0.28,
          0.33,
          0.18,
          0.24,
          0.84,
          0.6,
          0.33,
          0.65,
          0.33,
          0.28,
          0.64,
          0.79,
          0.46,
          0.5,
          0.35,
          0.09,
          0.2,
          0.38,
          0.65,
          0.46,
          0.04,
          0.26,
          0.38,
          0.16,
          0.05,
          0.04,
          0.13,
          0.29,
          0.26,
          0.32,
          0.7,
          0.78,
          0.2,
          0.19,
          0.28,
          0.66,
          0.47,
          0.98,
          0.29,
          0.36,
          0.51,
          0.1,
          0.09,
          0.09,
          0.27,
          0.2,
          0.24,
          0.2,
          0.38,
          0.25,
          1.1,
          0.24,
          0.52,
          0.1,
          0.25,
          0.65,
          0.35,
          0.7,
          0.29,
          0.39,
          0.24,
          0.14,
          0.82,
          0.29,
          0.52,
          0.04,
          0.06,
          0.33,
          0.37,
          0.29,
          0.57,
          0.88,
          0.3,
          0.71,
          0.63,
          0.75,
          0.24,
          0.24,
          1.3,
          0.54,
          0.46,
          0.47,
          0.49,
          0.22,
          0.1,
          0.63,
          1.29,
          1.53,
          0.61,
          0.73,
          0.44,
          0.11,
          0.51,
          0.29,
          0.4,
          0.55,
          0.53,
          0.27,
          0.22,
          0.61,
          0.15,
          0.67,
          0.26,
          0.37,
          0.3,
          0.13,
          0.12,
          0.31,
          0.69,
          0.3,
          0.36,
          0.39,
          0.32,
          0.37,
          0.41,
          0.37,
          0.18,
          0.22,
          0.55,
          1.02,
          0.09,
          0.6,
          0.32,
          0.28,
          0.24,
          0.54,
          0.26,
          0.65,
          0.12,
          0.25,
          0.65,
          0.76,
          0.39,
          0.12,
          0.42,
          0.31,
          0.49,
          0.75,
          0.44,
          0.14,
          0.14,
          0.31,
          0.28,
          0.22
         ],
         "yaxis": "y3"
        }
       ],
       "layout": {
        "annotations": [
         {
          "font": {
           "size": 16
          },
          "showarrow": false,
          "text": "Fridge",
          "x": 0.14444444444444446,
          "xanchor": "center",
          "xref": "paper",
          "y": 1,
          "yanchor": "bottom",
          "yref": "paper"
         },
         {
          "font": {
           "size": 16
          },
          "showarrow": false,
          "text": "Kitchen Appliances",
          "x": 0.5,
          "xanchor": "center",
          "xref": "paper",
          "y": 1,
          "yanchor": "bottom",
          "yref": "paper"
         },
         {
          "font": {
           "size": 16
          },
          "showarrow": false,
          "text": "Microwave",
          "x": 0.8555555555555556,
          "xanchor": "center",
          "xref": "paper",
          "y": 1,
          "yanchor": "bottom",
          "yref": "paper"
         }
        ],
        "template": {
         "data": {
          "bar": [
           {
            "error_x": {
             "color": "#2a3f5f"
            },
            "error_y": {
             "color": "#2a3f5f"
            },
            "marker": {
             "line": {
              "color": "#E5ECF6",
              "width": 0.5
             },
             "pattern": {
              "fillmode": "overlay",
              "size": 10,
              "solidity": 0.2
             }
            },
            "type": "bar"
           }
          ],
          "barpolar": [
           {
            "marker": {
             "line": {
              "color": "#E5ECF6",
              "width": 0.5
             },
             "pattern": {
              "fillmode": "overlay",
              "size": 10,
              "solidity": 0.2
             }
            },
            "type": "barpolar"
           }
          ],
          "carpet": [
           {
            "aaxis": {
             "endlinecolor": "#2a3f5f",
             "gridcolor": "white",
             "linecolor": "white",
             "minorgridcolor": "white",
             "startlinecolor": "#2a3f5f"
            },
            "baxis": {
             "endlinecolor": "#2a3f5f",
             "gridcolor": "white",
             "linecolor": "white",
             "minorgridcolor": "white",
             "startlinecolor": "#2a3f5f"
            },
            "type": "carpet"
           }
          ],
          "choropleth": [
           {
            "colorbar": {
             "outlinewidth": 0,
             "ticks": ""
            },
            "type": "choropleth"
           }
          ],
          "contour": [
           {
            "colorbar": {
             "outlinewidth": 0,
             "ticks": ""
            },
            "colorscale": [
             [
              0,
              "#0d0887"
             ],
             [
              0.1111111111111111,
              "#46039f"
             ],
             [
              0.2222222222222222,
              "#7201a8"
             ],
             [
              0.3333333333333333,
              "#9c179e"
             ],
             [
              0.4444444444444444,
              "#bd3786"
             ],
             [
              0.5555555555555556,
              "#d8576b"
             ],
             [
              0.6666666666666666,
              "#ed7953"
             ],
             [
              0.7777777777777778,
              "#fb9f3a"
             ],
             [
              0.8888888888888888,
              "#fdca26"
             ],
             [
              1,
              "#f0f921"
             ]
            ],
            "type": "contour"
           }
          ],
          "contourcarpet": [
           {
            "colorbar": {
             "outlinewidth": 0,
             "ticks": ""
            },
            "type": "contourcarpet"
           }
          ],
          "heatmap": [
           {
            "colorbar": {
             "outlinewidth": 0,
             "ticks": ""
            },
            "colorscale": [
             [
              0,
              "#0d0887"
             ],
             [
              0.1111111111111111,
              "#46039f"
             ],
             [
              0.2222222222222222,
              "#7201a8"
             ],
             [
              0.3333333333333333,
              "#9c179e"
             ],
             [
              0.4444444444444444,
              "#bd3786"
             ],
             [
              0.5555555555555556,
              "#d8576b"
             ],
             [
              0.6666666666666666,
              "#ed7953"
             ],
             [
              0.7777777777777778,
              "#fb9f3a"
             ],
             [
              0.8888888888888888,
              "#fdca26"
             ],
             [
              1,
              "#f0f921"
             ]
            ],
            "type": "heatmap"
           }
          ],
          "heatmapgl": [
           {
            "colorbar": {
             "outlinewidth": 0,
             "ticks": ""
            },
            "colorscale": [
             [
              0,
              "#0d0887"
             ],
             [
              0.1111111111111111,
              "#46039f"
             ],
             [
              0.2222222222222222,
              "#7201a8"
             ],
             [
              0.3333333333333333,
              "#9c179e"
             ],
             [
              0.4444444444444444,
              "#bd3786"
             ],
             [
              0.5555555555555556,
              "#d8576b"
             ],
             [
              0.6666666666666666,
              "#ed7953"
             ],
             [
              0.7777777777777778,
              "#fb9f3a"
             ],
             [
              0.8888888888888888,
              "#fdca26"
             ],
             [
              1,
              "#f0f921"
             ]
            ],
            "type": "heatmapgl"
           }
          ],
          "histogram": [
           {
            "marker": {
             "pattern": {
              "fillmode": "overlay",
              "size": 10,
              "solidity": 0.2
             }
            },
            "type": "histogram"
           }
          ],
          "histogram2d": [
           {
            "colorbar": {
             "outlinewidth": 0,
             "ticks": ""
            },
            "colorscale": [
             [
              0,
              "#0d0887"
             ],
             [
              0.1111111111111111,
              "#46039f"
             ],
             [
              0.2222222222222222,
              "#7201a8"
             ],
             [
              0.3333333333333333,
              "#9c179e"
             ],
             [
              0.4444444444444444,
              "#bd3786"
             ],
             [
              0.5555555555555556,
              "#d8576b"
             ],
             [
              0.6666666666666666,
              "#ed7953"
             ],
             [
              0.7777777777777778,
              "#fb9f3a"
             ],
             [
              0.8888888888888888,
              "#fdca26"
             ],
             [
              1,
              "#f0f921"
             ]
            ],
            "type": "histogram2d"
           }
          ],
          "histogram2dcontour": [
           {
            "colorbar": {
             "outlinewidth": 0,
             "ticks": ""
            },
            "colorscale": [
             [
              0,
              "#0d0887"
             ],
             [
              0.1111111111111111,
              "#46039f"
             ],
             [
              0.2222222222222222,
              "#7201a8"
             ],
             [
              0.3333333333333333,
              "#9c179e"
             ],
             [
              0.4444444444444444,
              "#bd3786"
             ],
             [
              0.5555555555555556,
              "#d8576b"
             ],
             [
              0.6666666666666666,
              "#ed7953"
             ],
             [
              0.7777777777777778,
              "#fb9f3a"
             ],
             [
              0.8888888888888888,
              "#fdca26"
             ],
             [
              1,
              "#f0f921"
             ]
            ],
            "type": "histogram2dcontour"
           }
          ],
          "mesh3d": [
           {
            "colorbar": {
             "outlinewidth": 0,
             "ticks": ""
            },
            "type": "mesh3d"
           }
          ],
          "parcoords": [
           {
            "line": {
             "colorbar": {
              "outlinewidth": 0,
              "ticks": ""
             }
            },
            "type": "parcoords"
           }
          ],
          "pie": [
           {
            "automargin": true,
            "type": "pie"
           }
          ],
          "scatter": [
           {
            "fillpattern": {
             "fillmode": "overlay",
             "size": 10,
             "solidity": 0.2
            },
            "type": "scatter"
           }
          ],
          "scatter3d": [
           {
            "line": {
             "colorbar": {
              "outlinewidth": 0,
              "ticks": ""
             }
            },
            "marker": {
             "colorbar": {
              "outlinewidth": 0,
              "ticks": ""
             }
            },
            "type": "scatter3d"
           }
          ],
          "scattercarpet": [
           {
            "marker": {
             "colorbar": {
              "outlinewidth": 0,
              "ticks": ""
             }
            },
            "type": "scattercarpet"
           }
          ],
          "scattergeo": [
           {
            "marker": {
             "colorbar": {
              "outlinewidth": 0,
              "ticks": ""
             }
            },
            "type": "scattergeo"
           }
          ],
          "scattergl": [
           {
            "marker": {
             "colorbar": {
              "outlinewidth": 0,
              "ticks": ""
             }
            },
            "type": "scattergl"
           }
          ],
          "scattermapbox": [
           {
            "marker": {
             "colorbar": {
              "outlinewidth": 0,
              "ticks": ""
             }
            },
            "type": "scattermapbox"
           }
          ],
          "scatterpolar": [
           {
            "marker": {
             "colorbar": {
              "outlinewidth": 0,
              "ticks": ""
             }
            },
            "type": "scatterpolar"
           }
          ],
          "scatterpolargl": [
           {
            "marker": {
             "colorbar": {
              "outlinewidth": 0,
              "ticks": ""
             }
            },
            "type": "scatterpolargl"
           }
          ],
          "scatterternary": [
           {
            "marker": {
             "colorbar": {
              "outlinewidth": 0,
              "ticks": ""
             }
            },
            "type": "scatterternary"
           }
          ],
          "surface": [
           {
            "colorbar": {
             "outlinewidth": 0,
             "ticks": ""
            },
            "colorscale": [
             [
              0,
              "#0d0887"
             ],
             [
              0.1111111111111111,
              "#46039f"
             ],
             [
              0.2222222222222222,
              "#7201a8"
             ],
             [
              0.3333333333333333,
              "#9c179e"
             ],
             [
              0.4444444444444444,
              "#bd3786"
             ],
             [
              0.5555555555555556,
              "#d8576b"
             ],
             [
              0.6666666666666666,
              "#ed7953"
             ],
             [
              0.7777777777777778,
              "#fb9f3a"
             ],
             [
              0.8888888888888888,
              "#fdca26"
             ],
             [
              1,
              "#f0f921"
             ]
            ],
            "type": "surface"
           }
          ],
          "table": [
           {
            "cells": {
             "fill": {
              "color": "#EBF0F8"
             },
             "line": {
              "color": "white"
             }
            },
            "header": {
             "fill": {
              "color": "#C8D4E3"
             },
             "line": {
              "color": "white"
             }
            },
            "type": "table"
           }
          ]
         },
         "layout": {
          "annotationdefaults": {
           "arrowcolor": "#2a3f5f",
           "arrowhead": 0,
           "arrowwidth": 1
          },
          "autotypenumbers": "strict",
          "coloraxis": {
           "colorbar": {
            "outlinewidth": 0,
            "ticks": ""
           }
          },
          "colorscale": {
           "diverging": [
            [
             0,
             "#8e0152"
            ],
            [
             0.1,
             "#c51b7d"
            ],
            [
             0.2,
             "#de77ae"
            ],
            [
             0.3,
             "#f1b6da"
            ],
            [
             0.4,
             "#fde0ef"
            ],
            [
             0.5,
             "#f7f7f7"
            ],
            [
             0.6,
             "#e6f5d0"
            ],
            [
             0.7,
             "#b8e186"
            ],
            [
             0.8,
             "#7fbc41"
            ],
            [
             0.9,
             "#4d9221"
            ],
            [
             1,
             "#276419"
            ]
           ],
           "sequential": [
            [
             0,
             "#0d0887"
            ],
            [
             0.1111111111111111,
             "#46039f"
            ],
            [
             0.2222222222222222,
             "#7201a8"
            ],
            [
             0.3333333333333333,
             "#9c179e"
            ],
            [
             0.4444444444444444,
             "#bd3786"
            ],
            [
             0.5555555555555556,
             "#d8576b"
            ],
            [
             0.6666666666666666,
             "#ed7953"
            ],
            [
             0.7777777777777778,
             "#fb9f3a"
            ],
            [
             0.8888888888888888,
             "#fdca26"
            ],
            [
             1,
             "#f0f921"
            ]
           ],
           "sequentialminus": [
            [
             0,
             "#0d0887"
            ],
            [
             0.1111111111111111,
             "#46039f"
            ],
            [
             0.2222222222222222,
             "#7201a8"
            ],
            [
             0.3333333333333333,
             "#9c179e"
            ],
            [
             0.4444444444444444,
             "#bd3786"
            ],
            [
             0.5555555555555556,
             "#d8576b"
            ],
            [
             0.6666666666666666,
             "#ed7953"
            ],
            [
             0.7777777777777778,
             "#fb9f3a"
            ],
            [
             0.8888888888888888,
             "#fdca26"
            ],
            [
             1,
             "#f0f921"
            ]
           ]
          },
          "colorway": [
           "#636efa",
           "#EF553B",
           "#00cc96",
           "#ab63fa",
           "#FFA15A",
           "#19d3f3",
           "#FF6692",
           "#B6E880",
           "#FF97FF",
           "#FECB52"
          ],
          "font": {
           "color": "#2a3f5f"
          },
          "geo": {
           "bgcolor": "white",
           "lakecolor": "white",
           "landcolor": "#E5ECF6",
           "showlakes": true,
           "showland": true,
           "subunitcolor": "white"
          },
          "hoverlabel": {
           "align": "left"
          },
          "hovermode": "closest",
          "mapbox": {
           "style": "light"
          },
          "paper_bgcolor": "white",
          "plot_bgcolor": "#E5ECF6",
          "polar": {
           "angularaxis": {
            "gridcolor": "white",
            "linecolor": "white",
            "ticks": ""
           },
           "bgcolor": "#E5ECF6",
           "radialaxis": {
            "gridcolor": "white",
            "linecolor": "white",
            "ticks": ""
           }
          },
          "scene": {
           "xaxis": {
            "backgroundcolor": "#E5ECF6",
            "gridcolor": "white",
            "gridwidth": 2,
            "linecolor": "white",
            "showbackground": true,
            "ticks": "",
            "zerolinecolor": "white"
           },
           "yaxis": {
            "backgroundcolor": "#E5ECF6",
            "gridcolor": "white",
            "gridwidth": 2,
            "linecolor": "white",
            "showbackground": true,
            "ticks": "",
            "zerolinecolor": "white"
           },
           "zaxis": {
            "backgroundcolor": "#E5ECF6",
            "gridcolor": "white",
            "gridwidth": 2,
            "linecolor": "white",
            "showbackground": true,
            "ticks": "",
            "zerolinecolor": "white"
           }
          },
          "shapedefaults": {
           "line": {
            "color": "#2a3f5f"
           }
          },
          "ternary": {
           "aaxis": {
            "gridcolor": "white",
            "linecolor": "white",
            "ticks": ""
           },
           "baxis": {
            "gridcolor": "white",
            "linecolor": "white",
            "ticks": ""
           },
           "bgcolor": "#E5ECF6",
           "caxis": {
            "gridcolor": "white",
            "linecolor": "white",
            "ticks": ""
           }
          },
          "title": {
           "x": 0.05
          },
          "xaxis": {
           "automargin": true,
           "gridcolor": "white",
           "linecolor": "white",
           "ticks": "",
           "title": {
            "standoff": 15
           },
           "zerolinecolor": "white",
           "zerolinewidth": 2
          },
          "yaxis": {
           "automargin": true,
           "gridcolor": "white",
           "linecolor": "white",
           "ticks": "",
           "title": {
            "standoff": 15
           },
           "zerolinecolor": "white",
           "zerolinewidth": 2
          }
         }
        },
        "title": {
         "text": "Energy Consumption by Appliance"
        },
        "xaxis": {
         "anchor": "y",
         "domain": [
          0,
          0.2888888888888889
         ],
         "title": {
          "text": "Date"
         }
        },
        "xaxis2": {
         "anchor": "y2",
         "domain": [
          0.35555555555555557,
          0.6444444444444445
         ],
         "title": {
          "text": "Date"
         }
        },
        "xaxis3": {
         "anchor": "y3",
         "domain": [
          0.7111111111111111,
          1
         ],
         "title": {
          "text": "Date"
         }
        },
        "yaxis": {
         "anchor": "x",
         "domain": [
          0,
          1
         ],
         "title": {
          "text": "Energy Consumption (kWh/day)"
         }
        },
        "yaxis2": {
         "anchor": "x2",
         "domain": [
          0,
          1
         ],
         "title": {
          "text": "Energy Consumption (kWh/day)"
         }
        },
        "yaxis3": {
         "anchor": "x3",
         "domain": [
          0,
          1
         ],
         "title": {
          "text": "Energy Consumption (kWh/day)"
         }
        }
       }
      }
     },
     "metadata": {},
     "output_type": "display_data"
    }
   ],
   "source": [
    "import plotly.graph_objects as go\n",
    "from plotly.subplots import make_subplots\n",
    "\n",
    "# create a subplot for each appliance\n",
    "fig = make_subplots(rows=1, cols=3, subplot_titles=('Fridge', 'Kitchen Appliances', 'Microwave'))\n",
    "\n",
    "# plot the data for each appliance\n",
    "fig.add_trace(go.Scatter(x=df_combined['date'], y=df_combined['Fridge measurement'], name='Fridge'), row=1, col=1)\n",
    "fig.add_trace(go.Scatter(x=df_combined['date'], y=df_combined['Kitchen appliances measurement'], name='Kitchen Appliances'), row=1, col=2)\n",
    "fig.add_trace(go.Scatter(x=df_combined['date'], y=df_combined['Microwave measurement'], name='Microwave'), row=1, col=3)\n",
    "\n",
    "# set the x-axis title\n",
    "fig.update_xaxes(title_text='Date')\n",
    "\n",
    "# set the y-axis title for each subplot\n",
    "fig.update_yaxes(title_text='Energy Consumption (kWh/day)', row=1, col=1)\n",
    "fig.update_yaxes(title_text='Energy Consumption (kWh/day)', row=1, col=2)\n",
    "fig.update_yaxes(title_text='Energy Consumption (kWh/day)', row=1, col=3)\n",
    "\n",
    "# add a title to the plot\n",
    "fig.update_layout(title_text='Energy Consumption by Appliance')\n",
    "\n",
    "# show the plot\n",
    "fig.show()\n"
   ]
  },
  {
   "attachments": {},
   "cell_type": "markdown",
   "metadata": {},
   "source": [
    "This graph creates a time series graph with three traces, one for each energy consumption measurement (fridge, kitchen appliances, and microwave). The x-axis represents the date, and the y-axis represents the energy consumption in kilowatt-hours per day. Each trace has a different color to distinguish the measurements."
   ]
  },
  {
   "cell_type": "code",
   "execution_count": 139,
   "metadata": {},
   "outputs": [
    {
     "data": {
      "application/vnd.plotly.v1+json": {
       "config": {
        "plotlyServerURL": "https://plot.ly"
       },
       "data": [
        {
         "line": {
          "color": "blue",
          "width": 1.5
         },
         "marker": {
          "color": [
           0.73,
           0.65,
           0.61,
           0.86,
           0.77,
           0.73,
           0.75,
           0.71,
           0.74,
           0.65,
           0.67,
           0.69,
           0.74,
           0.74,
           0.73,
           0.7,
           0.66,
           0.69,
           0.59,
           0.61,
           0.61,
           0.64,
           0.65,
           0.68,
           0.62,
           0.65,
           0.62,
           0.76,
           0.73,
           0.8,
           0.84,
           0.92,
           0.79,
           0.74,
           0.77,
           0.89,
           0.91,
           0.86,
           0.92,
           0.87,
           0.81,
           0.73,
           0.83,
           0.76,
           0.72,
           0.76,
           0.81,
           0.8,
           0.81,
           0.86,
           0.93,
           0.76,
           0.85,
           0.89,
           0.93,
           0.98,
           0.98,
           0.97,
           0.88,
           0.87,
           0.79,
           0.76,
           0.79,
           0.81,
           0.81,
           0.59,
           0.61,
           0.59,
           0.65,
           0.66,
           0.21,
           0.42,
           0.79,
           0.65,
           0.24,
           0.16,
           0.63,
           0.67,
           0.67,
           0.71,
           0.62,
           0.6,
           0.63,
           0.66,
           0.66,
           0.64,
           0.63,
           0.63,
           0.63,
           0.65,
           0.58,
           0.66,
           0.57,
           0.59,
           0.6,
           0.63,
           0.59,
           0.68,
           0.65,
           0.64,
           0.67,
           0.65,
           0.62,
           0.59,
           0.59,
           0.63,
           0.58,
           0.64,
           0.65,
           0.63,
           0.66,
           0.63,
           0.67,
           0.68,
           0.63,
           0.19,
           0.17,
           0.62,
           0.61,
           0.63,
           0.61,
           0.63,
           0.63,
           0.65,
           0.6,
           0.6,
           0.61,
           0.56,
           0.63,
           0.62,
           0.65,
           0.6,
           0.57,
           0.56,
           0.65,
           0.64,
           0.64,
           0.7,
           0.58,
           0.56,
           0.6,
           0.55,
           0.58,
           0.6,
           0.61,
           0.62,
           0.61,
           0.57,
           0.58,
           0.59,
           0.62,
           0.6,
           0.46,
           0.57,
           0.58,
           0.62,
           0.65,
           0.61,
           0.64,
           0.6,
           0.55,
           0.56,
           0.58,
           0.64,
           0.6,
           0.61,
           0.56,
           0.56,
           0.56,
           0.6,
           0.59,
           0.59,
           0.58,
           0.58,
           0.55,
           0.56,
           0.55,
           0.59,
           0.56,
           0.57,
           0.56,
           0.54,
           0.52,
           0.56,
           0.58,
           0.55,
           0.52,
           0.53,
           0.52,
           0.54,
           0.52,
           0.52,
           0.51,
           0.38
          ],
          "colorbar": {
           "title": {
            "text": "Fridge Energy Consumption (kWh per day)"
           }
          },
          "line": {
           "color": "DarkBlue",
           "width": 1
          },
          "size": 5,
          "symbol": "circle"
         },
         "mode": "lines+markers",
         "name": "Fridge",
         "type": "scatter",
         "visible": true,
         "x": [
          "2012-06-27T00:00:00",
          "2012-06-28T00:00:00",
          "2012-06-29T00:00:00",
          "2012-06-30T00:00:00",
          "2012-07-01T00:00:00",
          "2012-07-02T00:00:00",
          "2012-07-03T00:00:00",
          "2012-07-04T00:00:00",
          "2012-07-05T00:00:00",
          "2012-07-06T00:00:00",
          "2012-07-07T00:00:00",
          "2012-07-08T00:00:00",
          "2012-07-09T00:00:00",
          "2012-07-10T00:00:00",
          "2012-07-11T00:00:00",
          "2012-07-12T00:00:00",
          "2012-07-13T00:00:00",
          "2012-07-14T00:00:00",
          "2012-07-15T00:00:00",
          "2012-07-16T00:00:00",
          "2012-07-17T00:00:00",
          "2012-07-18T00:00:00",
          "2012-07-19T00:00:00",
          "2012-07-20T00:00:00",
          "2012-07-21T00:00:00",
          "2012-07-22T00:00:00",
          "2012-07-23T00:00:00",
          "2012-07-24T00:00:00",
          "2012-07-25T00:00:00",
          "2012-07-26T00:00:00",
          "2012-07-27T00:00:00",
          "2012-07-28T00:00:00",
          "2012-07-29T00:00:00",
          "2012-07-30T00:00:00",
          "2012-07-31T00:00:00",
          "2012-08-01T00:00:00",
          "2012-08-02T00:00:00",
          "2012-08-03T00:00:00",
          "2012-08-04T00:00:00",
          "2012-08-05T00:00:00",
          "2012-08-06T00:00:00",
          "2012-08-07T00:00:00",
          "2012-08-08T00:00:00",
          "2012-08-09T00:00:00",
          "2012-08-10T00:00:00",
          "2012-08-11T00:00:00",
          "2012-08-12T00:00:00",
          "2012-08-13T00:00:00",
          "2012-08-14T00:00:00",
          "2012-08-15T00:00:00",
          "2012-08-16T00:00:00",
          "2012-08-17T00:00:00",
          "2012-08-18T00:00:00",
          "2012-08-19T00:00:00",
          "2012-08-20T00:00:00",
          "2012-08-21T00:00:00",
          "2012-08-22T00:00:00",
          "2012-08-23T00:00:00",
          "2012-08-24T00:00:00",
          "2012-08-25T00:00:00",
          "2012-08-26T00:00:00",
          "2012-08-27T00:00:00",
          "2012-08-28T00:00:00",
          "2012-08-29T00:00:00",
          "2012-08-30T00:00:00",
          "2012-08-31T00:00:00",
          "2012-09-01T00:00:00",
          "2012-09-02T00:00:00",
          "2012-09-03T00:00:00",
          "2012-09-04T00:00:00",
          "2012-09-05T00:00:00",
          "2012-09-11T00:00:00",
          "2012-09-12T00:00:00",
          "2012-09-13T00:00:00",
          "2012-09-14T00:00:00",
          "2012-09-15T00:00:00",
          "2012-09-16T00:00:00",
          "2012-09-17T00:00:00",
          "2012-09-18T00:00:00",
          "2012-09-19T00:00:00",
          "2012-09-20T00:00:00",
          "2012-09-21T00:00:00",
          "2012-09-22T00:00:00",
          "2012-09-23T00:00:00",
          "2012-09-24T00:00:00",
          "2012-09-25T00:00:00",
          "2012-09-26T00:00:00",
          "2012-09-27T00:00:00",
          "2012-09-28T00:00:00",
          "2012-09-29T00:00:00",
          "2012-09-30T00:00:00",
          "2012-10-01T00:00:00",
          "2012-10-02T00:00:00",
          "2012-10-03T00:00:00",
          "2012-10-04T00:00:00",
          "2012-10-05T00:00:00",
          "2012-10-06T00:00:00",
          "2012-10-07T00:00:00",
          "2012-10-08T00:00:00",
          "2012-10-09T00:00:00",
          "2012-10-10T00:00:00",
          "2012-10-11T00:00:00",
          "2012-10-12T00:00:00",
          "2012-10-13T00:00:00",
          "2012-10-14T00:00:00",
          "2012-10-15T00:00:00",
          "2012-10-16T00:00:00",
          "2012-10-17T00:00:00",
          "2012-10-18T00:00:00",
          "2012-10-19T00:00:00",
          "2012-10-20T00:00:00",
          "2012-10-21T00:00:00",
          "2012-10-22T00:00:00",
          "2012-10-23T00:00:00",
          "2012-10-24T00:00:00",
          "2012-10-25T00:00:00",
          "2012-11-07T00:00:00",
          "2012-11-08T00:00:00",
          "2012-11-09T00:00:00",
          "2012-11-10T00:00:00",
          "2012-11-11T00:00:00",
          "2012-11-12T00:00:00",
          "2012-11-13T00:00:00",
          "2012-11-14T00:00:00",
          "2012-11-15T00:00:00",
          "2012-11-16T00:00:00",
          "2012-11-17T00:00:00",
          "2012-11-18T00:00:00",
          "2012-11-19T00:00:00",
          "2012-11-20T00:00:00",
          "2012-11-21T00:00:00",
          "2012-11-22T00:00:00",
          "2012-11-23T00:00:00",
          "2012-11-24T00:00:00",
          "2012-11-25T00:00:00",
          "2012-11-26T00:00:00",
          "2012-11-27T00:00:00",
          "2012-11-28T00:00:00",
          "2012-11-29T00:00:00",
          "2012-11-30T00:00:00",
          "2012-12-01T00:00:00",
          "2012-12-02T00:00:00",
          "2012-12-03T00:00:00",
          "2012-12-04T00:00:00",
          "2012-12-05T00:00:00",
          "2012-12-06T00:00:00",
          "2012-12-07T00:00:00",
          "2012-12-08T00:00:00",
          "2012-12-09T00:00:00",
          "2012-12-10T00:00:00",
          "2012-12-11T00:00:00",
          "2012-12-12T00:00:00",
          "2012-12-13T00:00:00",
          "2012-12-14T00:00:00",
          "2012-12-15T00:00:00",
          "2012-12-16T00:00:00",
          "2012-12-17T00:00:00",
          "2012-12-18T00:00:00",
          "2012-12-19T00:00:00",
          "2012-12-20T00:00:00",
          "2012-12-21T00:00:00",
          "2012-12-22T00:00:00",
          "2012-12-23T00:00:00",
          "2012-12-24T00:00:00",
          "2012-12-25T00:00:00",
          "2012-12-26T00:00:00",
          "2012-12-27T00:00:00",
          "2012-12-28T00:00:00",
          "2012-12-29T00:00:00",
          "2012-12-30T00:00:00",
          "2012-12-31T00:00:00",
          "2013-01-01T00:00:00",
          "2013-01-02T00:00:00",
          "2013-01-03T00:00:00",
          "2013-01-04T00:00:00",
          "2013-01-05T00:00:00",
          "2013-01-06T00:00:00",
          "2013-01-07T00:00:00",
          "2013-01-08T00:00:00",
          "2013-01-09T00:00:00",
          "2013-01-10T00:00:00",
          "2013-01-11T00:00:00",
          "2013-01-12T00:00:00",
          "2013-01-13T00:00:00",
          "2013-01-14T00:00:00",
          "2013-01-15T00:00:00",
          "2013-01-16T00:00:00",
          "2013-01-17T00:00:00",
          "2013-01-18T00:00:00",
          "2013-01-19T00:00:00",
          "2013-01-20T00:00:00",
          "2013-01-21T00:00:00",
          "2013-01-22T00:00:00",
          "2013-01-23T00:00:00"
         ],
         "y": [
          0.73,
          0.65,
          0.61,
          0.86,
          0.77,
          0.73,
          0.75,
          0.71,
          0.74,
          0.65,
          0.67,
          0.69,
          0.74,
          0.74,
          0.73,
          0.7,
          0.66,
          0.69,
          0.59,
          0.61,
          0.61,
          0.64,
          0.65,
          0.68,
          0.62,
          0.65,
          0.62,
          0.76,
          0.73,
          0.8,
          0.84,
          0.92,
          0.79,
          0.74,
          0.77,
          0.89,
          0.91,
          0.86,
          0.92,
          0.87,
          0.81,
          0.73,
          0.83,
          0.76,
          0.72,
          0.76,
          0.81,
          0.8,
          0.81,
          0.86,
          0.93,
          0.76,
          0.85,
          0.89,
          0.93,
          0.98,
          0.98,
          0.97,
          0.88,
          0.87,
          0.79,
          0.76,
          0.79,
          0.81,
          0.81,
          0.59,
          0.61,
          0.59,
          0.65,
          0.66,
          0.21,
          0.42,
          0.79,
          0.65,
          0.24,
          0.16,
          0.63,
          0.67,
          0.67,
          0.71,
          0.62,
          0.6,
          0.63,
          0.66,
          0.66,
          0.64,
          0.63,
          0.63,
          0.63,
          0.65,
          0.58,
          0.66,
          0.57,
          0.59,
          0.6,
          0.63,
          0.59,
          0.68,
          0.65,
          0.64,
          0.67,
          0.65,
          0.62,
          0.59,
          0.59,
          0.63,
          0.58,
          0.64,
          0.65,
          0.63,
          0.66,
          0.63,
          0.67,
          0.68,
          0.63,
          0.19,
          0.17,
          0.62,
          0.61,
          0.63,
          0.61,
          0.63,
          0.63,
          0.65,
          0.6,
          0.6,
          0.61,
          0.56,
          0.63,
          0.62,
          0.65,
          0.6,
          0.57,
          0.56,
          0.65,
          0.64,
          0.64,
          0.7,
          0.58,
          0.56,
          0.6,
          0.55,
          0.58,
          0.6,
          0.61,
          0.62,
          0.61,
          0.57,
          0.58,
          0.59,
          0.62,
          0.6,
          0.46,
          0.57,
          0.58,
          0.62,
          0.65,
          0.61,
          0.64,
          0.6,
          0.55,
          0.56,
          0.58,
          0.64,
          0.6,
          0.61,
          0.56,
          0.56,
          0.56,
          0.6,
          0.59,
          0.59,
          0.58,
          0.58,
          0.55,
          0.56,
          0.55,
          0.59,
          0.56,
          0.57,
          0.56,
          0.54,
          0.52,
          0.56,
          0.58,
          0.55,
          0.52,
          0.53,
          0.52,
          0.54,
          0.52,
          0.52,
          0.51,
          0.38
         ]
        },
        {
         "line": {
          "color": "green",
          "dash": "dot",
          "width": 1.5
         },
         "marker": {
          "color": [
           0.19,
           0.47,
           0.24,
           0.22,
           0.19,
           0.22,
           0.53,
           0.19,
           0.1,
           0.21,
           0.13,
           0.22,
           0.15,
           0.22,
           0.3,
           0.2,
           0.38,
           0.12,
           0.01,
           0.01,
           0.01,
           0.01,
           0.01,
           0.01,
           0.01,
           0.09,
           0.23,
           0.1,
           0.01,
           0.01,
           0.01,
           0.09,
           0.07,
           0.23,
           0.43,
           0.1,
           0.2,
           0.5,
           0.08,
           0,
           0.14,
           0.11,
           0.05,
           0.18,
           0.24,
           0.09,
           0.2,
           0.22,
           0.56,
           0.2,
           0.23,
           0.29,
           0.14,
           0.16,
           0.28,
           0.53,
           0.1,
           0.1,
           0.11,
           0.26,
           0.23,
           0.4,
           0.52,
           0.19,
           0.26,
           0.01,
           0.14,
           0.09,
           0.22,
           0.32,
           0.09,
           0.11,
           0.2,
           0.18,
           0.09,
           0.08,
           0.23,
           0.18,
           0.23,
           0.18,
           0.29,
           0.32,
           0.3,
           0.23,
           0.23,
           0.24,
           0.59,
           0.2,
           0.26,
           0.19,
           0.39,
           0.11,
           0.01,
           0.01,
           0.13,
           0.32,
           0.19,
           0.3,
           0.52,
           0.34,
           0.18,
           0.17,
           0.19,
           0.13,
           0.09,
           0.14,
           0.16,
           0.27,
           0.17,
           0.44,
           0.22,
           0.13,
           0.23,
           0.21,
           0.19,
           0.09,
           0.1,
           0.27,
           0.27,
           0.15,
           0.57,
           0.19,
           0.18,
           0.32,
           0.19,
           0.3,
           0.2,
           0.13,
           0.58,
           0.22,
           0.23,
           0.41,
           0.43,
           0.23,
           0.31,
           0.17,
           0.27,
           0.29,
           0.19,
           0.21,
           0.23,
           0.2,
           0.6,
           0.26,
           0.21,
           0.26,
           0.21,
           0.18,
           0.26,
           0.29,
           0.31,
           0.53,
           0.29,
           0.22,
           0.26,
           0.62,
           0.25,
           0.21,
           0.25,
           0.19,
           0.22,
           0.21,
           0.34,
           0.13,
           0.2,
           0.57,
           0.17,
           0.18,
           0.26,
           0.21,
           0.09,
           0.62,
           0.19,
           0.21,
           0.17,
           0.18,
           0.22,
           0.25,
           0.17,
           0.18,
           0.44,
           0.2,
           0.22,
           0.15,
           0.36,
           0.25,
           0.18,
           0.6,
           0.19,
           0.25,
           0.16,
           0.6,
           0.22,
           0.14
          ],
          "colorbar": {
           "title": {
            "text": "Kitchen Appliances Energy Consumption (kWh per day)"
           }
          },
          "line": {
           "color": "DarkGreen",
           "width": 1
          },
          "size": 5,
          "symbol": "square"
         },
         "mode": "lines+markers",
         "name": "Kitchen appliances",
         "type": "scatter",
         "visible": false,
         "x": [
          "2012-06-27T00:00:00",
          "2012-06-28T00:00:00",
          "2012-06-29T00:00:00",
          "2012-06-30T00:00:00",
          "2012-07-01T00:00:00",
          "2012-07-02T00:00:00",
          "2012-07-03T00:00:00",
          "2012-07-04T00:00:00",
          "2012-07-05T00:00:00",
          "2012-07-06T00:00:00",
          "2012-07-07T00:00:00",
          "2012-07-08T00:00:00",
          "2012-07-09T00:00:00",
          "2012-07-10T00:00:00",
          "2012-07-11T00:00:00",
          "2012-07-12T00:00:00",
          "2012-07-13T00:00:00",
          "2012-07-14T00:00:00",
          "2012-07-15T00:00:00",
          "2012-07-16T00:00:00",
          "2012-07-17T00:00:00",
          "2012-07-18T00:00:00",
          "2012-07-19T00:00:00",
          "2012-07-20T00:00:00",
          "2012-07-21T00:00:00",
          "2012-07-22T00:00:00",
          "2012-07-23T00:00:00",
          "2012-07-24T00:00:00",
          "2012-07-25T00:00:00",
          "2012-07-26T00:00:00",
          "2012-07-27T00:00:00",
          "2012-07-28T00:00:00",
          "2012-07-29T00:00:00",
          "2012-07-30T00:00:00",
          "2012-07-31T00:00:00",
          "2012-08-01T00:00:00",
          "2012-08-02T00:00:00",
          "2012-08-03T00:00:00",
          "2012-08-04T00:00:00",
          "2012-08-05T00:00:00",
          "2012-08-06T00:00:00",
          "2012-08-07T00:00:00",
          "2012-08-08T00:00:00",
          "2012-08-09T00:00:00",
          "2012-08-10T00:00:00",
          "2012-08-11T00:00:00",
          "2012-08-12T00:00:00",
          "2012-08-13T00:00:00",
          "2012-08-14T00:00:00",
          "2012-08-15T00:00:00",
          "2012-08-16T00:00:00",
          "2012-08-17T00:00:00",
          "2012-08-18T00:00:00",
          "2012-08-19T00:00:00",
          "2012-08-20T00:00:00",
          "2012-08-21T00:00:00",
          "2012-08-22T00:00:00",
          "2012-08-23T00:00:00",
          "2012-08-24T00:00:00",
          "2012-08-25T00:00:00",
          "2012-08-26T00:00:00",
          "2012-08-27T00:00:00",
          "2012-08-28T00:00:00",
          "2012-08-29T00:00:00",
          "2012-08-30T00:00:00",
          "2012-08-31T00:00:00",
          "2012-09-01T00:00:00",
          "2012-09-02T00:00:00",
          "2012-09-03T00:00:00",
          "2012-09-04T00:00:00",
          "2012-09-05T00:00:00",
          "2012-09-11T00:00:00",
          "2012-09-12T00:00:00",
          "2012-09-13T00:00:00",
          "2012-09-14T00:00:00",
          "2012-09-15T00:00:00",
          "2012-09-16T00:00:00",
          "2012-09-17T00:00:00",
          "2012-09-18T00:00:00",
          "2012-09-19T00:00:00",
          "2012-09-20T00:00:00",
          "2012-09-21T00:00:00",
          "2012-09-22T00:00:00",
          "2012-09-23T00:00:00",
          "2012-09-24T00:00:00",
          "2012-09-25T00:00:00",
          "2012-09-26T00:00:00",
          "2012-09-27T00:00:00",
          "2012-09-28T00:00:00",
          "2012-09-29T00:00:00",
          "2012-09-30T00:00:00",
          "2012-10-01T00:00:00",
          "2012-10-02T00:00:00",
          "2012-10-03T00:00:00",
          "2012-10-04T00:00:00",
          "2012-10-05T00:00:00",
          "2012-10-06T00:00:00",
          "2012-10-07T00:00:00",
          "2012-10-08T00:00:00",
          "2012-10-09T00:00:00",
          "2012-10-10T00:00:00",
          "2012-10-11T00:00:00",
          "2012-10-12T00:00:00",
          "2012-10-13T00:00:00",
          "2012-10-14T00:00:00",
          "2012-10-15T00:00:00",
          "2012-10-16T00:00:00",
          "2012-10-17T00:00:00",
          "2012-10-18T00:00:00",
          "2012-10-19T00:00:00",
          "2012-10-20T00:00:00",
          "2012-10-21T00:00:00",
          "2012-10-22T00:00:00",
          "2012-10-23T00:00:00",
          "2012-10-24T00:00:00",
          "2012-10-25T00:00:00",
          "2012-11-07T00:00:00",
          "2012-11-08T00:00:00",
          "2012-11-09T00:00:00",
          "2012-11-10T00:00:00",
          "2012-11-11T00:00:00",
          "2012-11-12T00:00:00",
          "2012-11-13T00:00:00",
          "2012-11-14T00:00:00",
          "2012-11-15T00:00:00",
          "2012-11-16T00:00:00",
          "2012-11-17T00:00:00",
          "2012-11-18T00:00:00",
          "2012-11-19T00:00:00",
          "2012-11-20T00:00:00",
          "2012-11-21T00:00:00",
          "2012-11-22T00:00:00",
          "2012-11-23T00:00:00",
          "2012-11-24T00:00:00",
          "2012-11-25T00:00:00",
          "2012-11-26T00:00:00",
          "2012-11-27T00:00:00",
          "2012-11-28T00:00:00",
          "2012-11-29T00:00:00",
          "2012-11-30T00:00:00",
          "2012-12-01T00:00:00",
          "2012-12-02T00:00:00",
          "2012-12-03T00:00:00",
          "2012-12-04T00:00:00",
          "2012-12-05T00:00:00",
          "2012-12-06T00:00:00",
          "2012-12-07T00:00:00",
          "2012-12-08T00:00:00",
          "2012-12-09T00:00:00",
          "2012-12-10T00:00:00",
          "2012-12-11T00:00:00",
          "2012-12-12T00:00:00",
          "2012-12-13T00:00:00",
          "2012-12-14T00:00:00",
          "2012-12-15T00:00:00",
          "2012-12-16T00:00:00",
          "2012-12-17T00:00:00",
          "2012-12-18T00:00:00",
          "2012-12-19T00:00:00",
          "2012-12-20T00:00:00",
          "2012-12-21T00:00:00",
          "2012-12-22T00:00:00",
          "2012-12-23T00:00:00",
          "2012-12-24T00:00:00",
          "2012-12-25T00:00:00",
          "2012-12-26T00:00:00",
          "2012-12-27T00:00:00",
          "2012-12-28T00:00:00",
          "2012-12-29T00:00:00",
          "2012-12-30T00:00:00",
          "2012-12-31T00:00:00",
          "2013-01-01T00:00:00",
          "2013-01-02T00:00:00",
          "2013-01-03T00:00:00",
          "2013-01-04T00:00:00",
          "2013-01-05T00:00:00",
          "2013-01-06T00:00:00",
          "2013-01-07T00:00:00",
          "2013-01-08T00:00:00",
          "2013-01-09T00:00:00",
          "2013-01-10T00:00:00",
          "2013-01-11T00:00:00",
          "2013-01-12T00:00:00",
          "2013-01-13T00:00:00",
          "2013-01-14T00:00:00",
          "2013-01-15T00:00:00",
          "2013-01-16T00:00:00",
          "2013-01-17T00:00:00",
          "2013-01-18T00:00:00",
          "2013-01-19T00:00:00",
          "2013-01-20T00:00:00",
          "2013-01-21T00:00:00",
          "2013-01-22T00:00:00",
          "2013-01-23T00:00:00"
         ],
         "y": [
          0.19,
          0.47,
          0.24,
          0.22,
          0.19,
          0.22,
          0.53,
          0.19,
          0.1,
          0.21,
          0.13,
          0.22,
          0.15,
          0.22,
          0.3,
          0.2,
          0.38,
          0.12,
          0.01,
          0.01,
          0.01,
          0.01,
          0.01,
          0.01,
          0.01,
          0.09,
          0.23,
          0.1,
          0.01,
          0.01,
          0.01,
          0.09,
          0.07,
          0.23,
          0.43,
          0.1,
          0.2,
          0.5,
          0.08,
          0,
          0.14,
          0.11,
          0.05,
          0.18,
          0.24,
          0.09,
          0.2,
          0.22,
          0.56,
          0.2,
          0.23,
          0.29,
          0.14,
          0.16,
          0.28,
          0.53,
          0.1,
          0.1,
          0.11,
          0.26,
          0.23,
          0.4,
          0.52,
          0.19,
          0.26,
          0.01,
          0.14,
          0.09,
          0.22,
          0.32,
          0.09,
          0.11,
          0.2,
          0.18,
          0.09,
          0.08,
          0.23,
          0.18,
          0.23,
          0.18,
          0.29,
          0.32,
          0.3,
          0.23,
          0.23,
          0.24,
          0.59,
          0.2,
          0.26,
          0.19,
          0.39,
          0.11,
          0.01,
          0.01,
          0.13,
          0.32,
          0.19,
          0.3,
          0.52,
          0.34,
          0.18,
          0.17,
          0.19,
          0.13,
          0.09,
          0.14,
          0.16,
          0.27,
          0.17,
          0.44,
          0.22,
          0.13,
          0.23,
          0.21,
          0.19,
          0.09,
          0.1,
          0.27,
          0.27,
          0.15,
          0.57,
          0.19,
          0.18,
          0.32,
          0.19,
          0.3,
          0.2,
          0.13,
          0.58,
          0.22,
          0.23,
          0.41,
          0.43,
          0.23,
          0.31,
          0.17,
          0.27,
          0.29,
          0.19,
          0.21,
          0.23,
          0.2,
          0.6,
          0.26,
          0.21,
          0.26,
          0.21,
          0.18,
          0.26,
          0.29,
          0.31,
          0.53,
          0.29,
          0.22,
          0.26,
          0.62,
          0.25,
          0.21,
          0.25,
          0.19,
          0.22,
          0.21,
          0.34,
          0.13,
          0.2,
          0.57,
          0.17,
          0.18,
          0.26,
          0.21,
          0.09,
          0.62,
          0.19,
          0.21,
          0.17,
          0.18,
          0.22,
          0.25,
          0.17,
          0.18,
          0.44,
          0.2,
          0.22,
          0.15,
          0.36,
          0.25,
          0.18,
          0.6,
          0.19,
          0.25,
          0.16,
          0.6,
          0.22,
          0.14
         ]
        },
        {
         "line": {
          "color": "red",
          "dash": "dash",
          "width": 1.5
         },
         "marker": {
          "color": [
           0.42,
           0.41,
           1.4,
           0.39,
           0.11,
           0.17,
           0.14,
           0.13,
           0.23,
           0.37,
           0.13,
           0.21,
           0.91,
           0.26,
           0.32,
           0.31,
           0.63,
           0.11,
           0.08,
           0.09,
           0.09,
           0.09,
           0.09,
           0.09,
           0.09,
           0.25,
           0.17,
           0.09,
           0.11,
           0.09,
           0.1,
           0.15,
           0.09,
           0.28,
           0.47,
           0.51,
           0.36,
           0.26,
           0.38,
           0.13,
           0.51,
           0.77,
           0.5,
           0.36,
           0.24,
           0.14,
           0.96,
           0.25,
           0.56,
           0.38,
           0.28,
           0.33,
           0.18,
           0.24,
           0.84,
           0.6,
           0.33,
           0.65,
           0.33,
           0.28,
           0.64,
           0.79,
           0.46,
           0.5,
           0.35,
           0.09,
           0.2,
           0.38,
           0.65,
           0.46,
           0.04,
           0.26,
           0.38,
           0.16,
           0.05,
           0.04,
           0.13,
           0.29,
           0.26,
           0.32,
           0.7,
           0.78,
           0.2,
           0.19,
           0.28,
           0.66,
           0.47,
           0.98,
           0.29,
           0.36,
           0.51,
           0.1,
           0.09,
           0.09,
           0.27,
           0.2,
           0.24,
           0.2,
           0.38,
           0.25,
           1.1,
           0.24,
           0.52,
           0.1,
           0.25,
           0.65,
           0.35,
           0.7,
           0.29,
           0.39,
           0.24,
           0.14,
           0.82,
           0.29,
           0.52,
           0.04,
           0.06,
           0.33,
           0.37,
           0.29,
           0.57,
           0.88,
           0.3,
           0.71,
           0.63,
           0.75,
           0.24,
           0.24,
           1.3,
           0.54,
           0.46,
           0.47,
           0.49,
           0.22,
           0.1,
           0.63,
           1.29,
           1.53,
           0.61,
           0.73,
           0.44,
           0.11,
           0.51,
           0.29,
           0.4,
           0.55,
           0.53,
           0.27,
           0.22,
           0.61,
           0.15,
           0.67,
           0.26,
           0.37,
           0.3,
           0.13,
           0.12,
           0.31,
           0.69,
           0.3,
           0.36,
           0.39,
           0.32,
           0.37,
           0.41,
           0.37,
           0.18,
           0.22,
           0.55,
           1.02,
           0.09,
           0.6,
           0.32,
           0.28,
           0.24,
           0.54,
           0.26,
           0.65,
           0.12,
           0.25,
           0.65,
           0.76,
           0.39,
           0.12,
           0.42,
           0.31,
           0.49,
           0.75,
           0.44,
           0.14,
           0.14,
           0.31,
           0.28,
           0.22
          ],
          "colorbar": {
           "title": {
            "text": "Microwave Energy Consumption (kWh per day)"
           }
          },
          "line": {
           "color": "DarkRed",
           "width": 1
          },
          "size": 5,
          "symbol": "diamond"
         },
         "mode": "lines+markers",
         "name": "Microwave",
         "type": "scatter",
         "visible": false,
         "x": [
          "2012-06-27T00:00:00",
          "2012-06-28T00:00:00",
          "2012-06-29T00:00:00",
          "2012-06-30T00:00:00",
          "2012-07-01T00:00:00",
          "2012-07-02T00:00:00",
          "2012-07-03T00:00:00",
          "2012-07-04T00:00:00",
          "2012-07-05T00:00:00",
          "2012-07-06T00:00:00",
          "2012-07-07T00:00:00",
          "2012-07-08T00:00:00",
          "2012-07-09T00:00:00",
          "2012-07-10T00:00:00",
          "2012-07-11T00:00:00",
          "2012-07-12T00:00:00",
          "2012-07-13T00:00:00",
          "2012-07-14T00:00:00",
          "2012-07-15T00:00:00",
          "2012-07-16T00:00:00",
          "2012-07-17T00:00:00",
          "2012-07-18T00:00:00",
          "2012-07-19T00:00:00",
          "2012-07-20T00:00:00",
          "2012-07-21T00:00:00",
          "2012-07-22T00:00:00",
          "2012-07-23T00:00:00",
          "2012-07-24T00:00:00",
          "2012-07-25T00:00:00",
          "2012-07-26T00:00:00",
          "2012-07-27T00:00:00",
          "2012-07-28T00:00:00",
          "2012-07-29T00:00:00",
          "2012-07-30T00:00:00",
          "2012-07-31T00:00:00",
          "2012-08-01T00:00:00",
          "2012-08-02T00:00:00",
          "2012-08-03T00:00:00",
          "2012-08-04T00:00:00",
          "2012-08-05T00:00:00",
          "2012-08-06T00:00:00",
          "2012-08-07T00:00:00",
          "2012-08-08T00:00:00",
          "2012-08-09T00:00:00",
          "2012-08-10T00:00:00",
          "2012-08-11T00:00:00",
          "2012-08-12T00:00:00",
          "2012-08-13T00:00:00",
          "2012-08-14T00:00:00",
          "2012-08-15T00:00:00",
          "2012-08-16T00:00:00",
          "2012-08-17T00:00:00",
          "2012-08-18T00:00:00",
          "2012-08-19T00:00:00",
          "2012-08-20T00:00:00",
          "2012-08-21T00:00:00",
          "2012-08-22T00:00:00",
          "2012-08-23T00:00:00",
          "2012-08-24T00:00:00",
          "2012-08-25T00:00:00",
          "2012-08-26T00:00:00",
          "2012-08-27T00:00:00",
          "2012-08-28T00:00:00",
          "2012-08-29T00:00:00",
          "2012-08-30T00:00:00",
          "2012-08-31T00:00:00",
          "2012-09-01T00:00:00",
          "2012-09-02T00:00:00",
          "2012-09-03T00:00:00",
          "2012-09-04T00:00:00",
          "2012-09-05T00:00:00",
          "2012-09-11T00:00:00",
          "2012-09-12T00:00:00",
          "2012-09-13T00:00:00",
          "2012-09-14T00:00:00",
          "2012-09-15T00:00:00",
          "2012-09-16T00:00:00",
          "2012-09-17T00:00:00",
          "2012-09-18T00:00:00",
          "2012-09-19T00:00:00",
          "2012-09-20T00:00:00",
          "2012-09-21T00:00:00",
          "2012-09-22T00:00:00",
          "2012-09-23T00:00:00",
          "2012-09-24T00:00:00",
          "2012-09-25T00:00:00",
          "2012-09-26T00:00:00",
          "2012-09-27T00:00:00",
          "2012-09-28T00:00:00",
          "2012-09-29T00:00:00",
          "2012-09-30T00:00:00",
          "2012-10-01T00:00:00",
          "2012-10-02T00:00:00",
          "2012-10-03T00:00:00",
          "2012-10-04T00:00:00",
          "2012-10-05T00:00:00",
          "2012-10-06T00:00:00",
          "2012-10-07T00:00:00",
          "2012-10-08T00:00:00",
          "2012-10-09T00:00:00",
          "2012-10-10T00:00:00",
          "2012-10-11T00:00:00",
          "2012-10-12T00:00:00",
          "2012-10-13T00:00:00",
          "2012-10-14T00:00:00",
          "2012-10-15T00:00:00",
          "2012-10-16T00:00:00",
          "2012-10-17T00:00:00",
          "2012-10-18T00:00:00",
          "2012-10-19T00:00:00",
          "2012-10-20T00:00:00",
          "2012-10-21T00:00:00",
          "2012-10-22T00:00:00",
          "2012-10-23T00:00:00",
          "2012-10-24T00:00:00",
          "2012-10-25T00:00:00",
          "2012-11-07T00:00:00",
          "2012-11-08T00:00:00",
          "2012-11-09T00:00:00",
          "2012-11-10T00:00:00",
          "2012-11-11T00:00:00",
          "2012-11-12T00:00:00",
          "2012-11-13T00:00:00",
          "2012-11-14T00:00:00",
          "2012-11-15T00:00:00",
          "2012-11-16T00:00:00",
          "2012-11-17T00:00:00",
          "2012-11-18T00:00:00",
          "2012-11-19T00:00:00",
          "2012-11-20T00:00:00",
          "2012-11-21T00:00:00",
          "2012-11-22T00:00:00",
          "2012-11-23T00:00:00",
          "2012-11-24T00:00:00",
          "2012-11-25T00:00:00",
          "2012-11-26T00:00:00",
          "2012-11-27T00:00:00",
          "2012-11-28T00:00:00",
          "2012-11-29T00:00:00",
          "2012-11-30T00:00:00",
          "2012-12-01T00:00:00",
          "2012-12-02T00:00:00",
          "2012-12-03T00:00:00",
          "2012-12-04T00:00:00",
          "2012-12-05T00:00:00",
          "2012-12-06T00:00:00",
          "2012-12-07T00:00:00",
          "2012-12-08T00:00:00",
          "2012-12-09T00:00:00",
          "2012-12-10T00:00:00",
          "2012-12-11T00:00:00",
          "2012-12-12T00:00:00",
          "2012-12-13T00:00:00",
          "2012-12-14T00:00:00",
          "2012-12-15T00:00:00",
          "2012-12-16T00:00:00",
          "2012-12-17T00:00:00",
          "2012-12-18T00:00:00",
          "2012-12-19T00:00:00",
          "2012-12-20T00:00:00",
          "2012-12-21T00:00:00",
          "2012-12-22T00:00:00",
          "2012-12-23T00:00:00",
          "2012-12-24T00:00:00",
          "2012-12-25T00:00:00",
          "2012-12-26T00:00:00",
          "2012-12-27T00:00:00",
          "2012-12-28T00:00:00",
          "2012-12-29T00:00:00",
          "2012-12-30T00:00:00",
          "2012-12-31T00:00:00",
          "2013-01-01T00:00:00",
          "2013-01-02T00:00:00",
          "2013-01-03T00:00:00",
          "2013-01-04T00:00:00",
          "2013-01-05T00:00:00",
          "2013-01-06T00:00:00",
          "2013-01-07T00:00:00",
          "2013-01-08T00:00:00",
          "2013-01-09T00:00:00",
          "2013-01-10T00:00:00",
          "2013-01-11T00:00:00",
          "2013-01-12T00:00:00",
          "2013-01-13T00:00:00",
          "2013-01-14T00:00:00",
          "2013-01-15T00:00:00",
          "2013-01-16T00:00:00",
          "2013-01-17T00:00:00",
          "2013-01-18T00:00:00",
          "2013-01-19T00:00:00",
          "2013-01-20T00:00:00",
          "2013-01-21T00:00:00",
          "2013-01-22T00:00:00",
          "2013-01-23T00:00:00"
         ],
         "y": [
          0.42,
          0.41,
          1.4,
          0.39,
          0.11,
          0.17,
          0.14,
          0.13,
          0.23,
          0.37,
          0.13,
          0.21,
          0.91,
          0.26,
          0.32,
          0.31,
          0.63,
          0.11,
          0.08,
          0.09,
          0.09,
          0.09,
          0.09,
          0.09,
          0.09,
          0.25,
          0.17,
          0.09,
          0.11,
          0.09,
          0.1,
          0.15,
          0.09,
          0.28,
          0.47,
          0.51,
          0.36,
          0.26,
          0.38,
          0.13,
          0.51,
          0.77,
          0.5,
          0.36,
          0.24,
          0.14,
          0.96,
          0.25,
          0.56,
          0.38,
          0.28,
          0.33,
          0.18,
          0.24,
          0.84,
          0.6,
          0.33,
          0.65,
          0.33,
          0.28,
          0.64,
          0.79,
          0.46,
          0.5,
          0.35,
          0.09,
          0.2,
          0.38,
          0.65,
          0.46,
          0.04,
          0.26,
          0.38,
          0.16,
          0.05,
          0.04,
          0.13,
          0.29,
          0.26,
          0.32,
          0.7,
          0.78,
          0.2,
          0.19,
          0.28,
          0.66,
          0.47,
          0.98,
          0.29,
          0.36,
          0.51,
          0.1,
          0.09,
          0.09,
          0.27,
          0.2,
          0.24,
          0.2,
          0.38,
          0.25,
          1.1,
          0.24,
          0.52,
          0.1,
          0.25,
          0.65,
          0.35,
          0.7,
          0.29,
          0.39,
          0.24,
          0.14,
          0.82,
          0.29,
          0.52,
          0.04,
          0.06,
          0.33,
          0.37,
          0.29,
          0.57,
          0.88,
          0.3,
          0.71,
          0.63,
          0.75,
          0.24,
          0.24,
          1.3,
          0.54,
          0.46,
          0.47,
          0.49,
          0.22,
          0.1,
          0.63,
          1.29,
          1.53,
          0.61,
          0.73,
          0.44,
          0.11,
          0.51,
          0.29,
          0.4,
          0.55,
          0.53,
          0.27,
          0.22,
          0.61,
          0.15,
          0.67,
          0.26,
          0.37,
          0.3,
          0.13,
          0.12,
          0.31,
          0.69,
          0.3,
          0.36,
          0.39,
          0.32,
          0.37,
          0.41,
          0.37,
          0.18,
          0.22,
          0.55,
          1.02,
          0.09,
          0.6,
          0.32,
          0.28,
          0.24,
          0.54,
          0.26,
          0.65,
          0.12,
          0.25,
          0.65,
          0.76,
          0.39,
          0.12,
          0.42,
          0.31,
          0.49,
          0.75,
          0.44,
          0.14,
          0.14,
          0.31,
          0.28,
          0.22
         ]
        }
       ],
       "layout": {
        "template": {
         "data": {
          "bar": [
           {
            "error_x": {
             "color": "#2a3f5f"
            },
            "error_y": {
             "color": "#2a3f5f"
            },
            "marker": {
             "line": {
              "color": "white",
              "width": 0.5
             },
             "pattern": {
              "fillmode": "overlay",
              "size": 10,
              "solidity": 0.2
             }
            },
            "type": "bar"
           }
          ],
          "barpolar": [
           {
            "marker": {
             "line": {
              "color": "white",
              "width": 0.5
             },
             "pattern": {
              "fillmode": "overlay",
              "size": 10,
              "solidity": 0.2
             }
            },
            "type": "barpolar"
           }
          ],
          "carpet": [
           {
            "aaxis": {
             "endlinecolor": "#2a3f5f",
             "gridcolor": "#C8D4E3",
             "linecolor": "#C8D4E3",
             "minorgridcolor": "#C8D4E3",
             "startlinecolor": "#2a3f5f"
            },
            "baxis": {
             "endlinecolor": "#2a3f5f",
             "gridcolor": "#C8D4E3",
             "linecolor": "#C8D4E3",
             "minorgridcolor": "#C8D4E3",
             "startlinecolor": "#2a3f5f"
            },
            "type": "carpet"
           }
          ],
          "choropleth": [
           {
            "colorbar": {
             "outlinewidth": 0,
             "ticks": ""
            },
            "type": "choropleth"
           }
          ],
          "contour": [
           {
            "colorbar": {
             "outlinewidth": 0,
             "ticks": ""
            },
            "colorscale": [
             [
              0,
              "#0d0887"
             ],
             [
              0.1111111111111111,
              "#46039f"
             ],
             [
              0.2222222222222222,
              "#7201a8"
             ],
             [
              0.3333333333333333,
              "#9c179e"
             ],
             [
              0.4444444444444444,
              "#bd3786"
             ],
             [
              0.5555555555555556,
              "#d8576b"
             ],
             [
              0.6666666666666666,
              "#ed7953"
             ],
             [
              0.7777777777777778,
              "#fb9f3a"
             ],
             [
              0.8888888888888888,
              "#fdca26"
             ],
             [
              1,
              "#f0f921"
             ]
            ],
            "type": "contour"
           }
          ],
          "contourcarpet": [
           {
            "colorbar": {
             "outlinewidth": 0,
             "ticks": ""
            },
            "type": "contourcarpet"
           }
          ],
          "heatmap": [
           {
            "colorbar": {
             "outlinewidth": 0,
             "ticks": ""
            },
            "colorscale": [
             [
              0,
              "#0d0887"
             ],
             [
              0.1111111111111111,
              "#46039f"
             ],
             [
              0.2222222222222222,
              "#7201a8"
             ],
             [
              0.3333333333333333,
              "#9c179e"
             ],
             [
              0.4444444444444444,
              "#bd3786"
             ],
             [
              0.5555555555555556,
              "#d8576b"
             ],
             [
              0.6666666666666666,
              "#ed7953"
             ],
             [
              0.7777777777777778,
              "#fb9f3a"
             ],
             [
              0.8888888888888888,
              "#fdca26"
             ],
             [
              1,
              "#f0f921"
             ]
            ],
            "type": "heatmap"
           }
          ],
          "heatmapgl": [
           {
            "colorbar": {
             "outlinewidth": 0,
             "ticks": ""
            },
            "colorscale": [
             [
              0,
              "#0d0887"
             ],
             [
              0.1111111111111111,
              "#46039f"
             ],
             [
              0.2222222222222222,
              "#7201a8"
             ],
             [
              0.3333333333333333,
              "#9c179e"
             ],
             [
              0.4444444444444444,
              "#bd3786"
             ],
             [
              0.5555555555555556,
              "#d8576b"
             ],
             [
              0.6666666666666666,
              "#ed7953"
             ],
             [
              0.7777777777777778,
              "#fb9f3a"
             ],
             [
              0.8888888888888888,
              "#fdca26"
             ],
             [
              1,
              "#f0f921"
             ]
            ],
            "type": "heatmapgl"
           }
          ],
          "histogram": [
           {
            "marker": {
             "pattern": {
              "fillmode": "overlay",
              "size": 10,
              "solidity": 0.2
             }
            },
            "type": "histogram"
           }
          ],
          "histogram2d": [
           {
            "colorbar": {
             "outlinewidth": 0,
             "ticks": ""
            },
            "colorscale": [
             [
              0,
              "#0d0887"
             ],
             [
              0.1111111111111111,
              "#46039f"
             ],
             [
              0.2222222222222222,
              "#7201a8"
             ],
             [
              0.3333333333333333,
              "#9c179e"
             ],
             [
              0.4444444444444444,
              "#bd3786"
             ],
             [
              0.5555555555555556,
              "#d8576b"
             ],
             [
              0.6666666666666666,
              "#ed7953"
             ],
             [
              0.7777777777777778,
              "#fb9f3a"
             ],
             [
              0.8888888888888888,
              "#fdca26"
             ],
             [
              1,
              "#f0f921"
             ]
            ],
            "type": "histogram2d"
           }
          ],
          "histogram2dcontour": [
           {
            "colorbar": {
             "outlinewidth": 0,
             "ticks": ""
            },
            "colorscale": [
             [
              0,
              "#0d0887"
             ],
             [
              0.1111111111111111,
              "#46039f"
             ],
             [
              0.2222222222222222,
              "#7201a8"
             ],
             [
              0.3333333333333333,
              "#9c179e"
             ],
             [
              0.4444444444444444,
              "#bd3786"
             ],
             [
              0.5555555555555556,
              "#d8576b"
             ],
             [
              0.6666666666666666,
              "#ed7953"
             ],
             [
              0.7777777777777778,
              "#fb9f3a"
             ],
             [
              0.8888888888888888,
              "#fdca26"
             ],
             [
              1,
              "#f0f921"
             ]
            ],
            "type": "histogram2dcontour"
           }
          ],
          "mesh3d": [
           {
            "colorbar": {
             "outlinewidth": 0,
             "ticks": ""
            },
            "type": "mesh3d"
           }
          ],
          "parcoords": [
           {
            "line": {
             "colorbar": {
              "outlinewidth": 0,
              "ticks": ""
             }
            },
            "type": "parcoords"
           }
          ],
          "pie": [
           {
            "automargin": true,
            "type": "pie"
           }
          ],
          "scatter": [
           {
            "fillpattern": {
             "fillmode": "overlay",
             "size": 10,
             "solidity": 0.2
            },
            "type": "scatter"
           }
          ],
          "scatter3d": [
           {
            "line": {
             "colorbar": {
              "outlinewidth": 0,
              "ticks": ""
             }
            },
            "marker": {
             "colorbar": {
              "outlinewidth": 0,
              "ticks": ""
             }
            },
            "type": "scatter3d"
           }
          ],
          "scattercarpet": [
           {
            "marker": {
             "colorbar": {
              "outlinewidth": 0,
              "ticks": ""
             }
            },
            "type": "scattercarpet"
           }
          ],
          "scattergeo": [
           {
            "marker": {
             "colorbar": {
              "outlinewidth": 0,
              "ticks": ""
             }
            },
            "type": "scattergeo"
           }
          ],
          "scattergl": [
           {
            "marker": {
             "colorbar": {
              "outlinewidth": 0,
              "ticks": ""
             }
            },
            "type": "scattergl"
           }
          ],
          "scattermapbox": [
           {
            "marker": {
             "colorbar": {
              "outlinewidth": 0,
              "ticks": ""
             }
            },
            "type": "scattermapbox"
           }
          ],
          "scatterpolar": [
           {
            "marker": {
             "colorbar": {
              "outlinewidth": 0,
              "ticks": ""
             }
            },
            "type": "scatterpolar"
           }
          ],
          "scatterpolargl": [
           {
            "marker": {
             "colorbar": {
              "outlinewidth": 0,
              "ticks": ""
             }
            },
            "type": "scatterpolargl"
           }
          ],
          "scatterternary": [
           {
            "marker": {
             "colorbar": {
              "outlinewidth": 0,
              "ticks": ""
             }
            },
            "type": "scatterternary"
           }
          ],
          "surface": [
           {
            "colorbar": {
             "outlinewidth": 0,
             "ticks": ""
            },
            "colorscale": [
             [
              0,
              "#0d0887"
             ],
             [
              0.1111111111111111,
              "#46039f"
             ],
             [
              0.2222222222222222,
              "#7201a8"
             ],
             [
              0.3333333333333333,
              "#9c179e"
             ],
             [
              0.4444444444444444,
              "#bd3786"
             ],
             [
              0.5555555555555556,
              "#d8576b"
             ],
             [
              0.6666666666666666,
              "#ed7953"
             ],
             [
              0.7777777777777778,
              "#fb9f3a"
             ],
             [
              0.8888888888888888,
              "#fdca26"
             ],
             [
              1,
              "#f0f921"
             ]
            ],
            "type": "surface"
           }
          ],
          "table": [
           {
            "cells": {
             "fill": {
              "color": "#EBF0F8"
             },
             "line": {
              "color": "white"
             }
            },
            "header": {
             "fill": {
              "color": "#C8D4E3"
             },
             "line": {
              "color": "white"
             }
            },
            "type": "table"
           }
          ]
         },
         "layout": {
          "annotationdefaults": {
           "arrowcolor": "#2a3f5f",
           "arrowhead": 0,
           "arrowwidth": 1
          },
          "autotypenumbers": "strict",
          "coloraxis": {
           "colorbar": {
            "outlinewidth": 0,
            "ticks": ""
           }
          },
          "colorscale": {
           "diverging": [
            [
             0,
             "#8e0152"
            ],
            [
             0.1,
             "#c51b7d"
            ],
            [
             0.2,
             "#de77ae"
            ],
            [
             0.3,
             "#f1b6da"
            ],
            [
             0.4,
             "#fde0ef"
            ],
            [
             0.5,
             "#f7f7f7"
            ],
            [
             0.6,
             "#e6f5d0"
            ],
            [
             0.7,
             "#b8e186"
            ],
            [
             0.8,
             "#7fbc41"
            ],
            [
             0.9,
             "#4d9221"
            ],
            [
             1,
             "#276419"
            ]
           ],
           "sequential": [
            [
             0,
             "#0d0887"
            ],
            [
             0.1111111111111111,
             "#46039f"
            ],
            [
             0.2222222222222222,
             "#7201a8"
            ],
            [
             0.3333333333333333,
             "#9c179e"
            ],
            [
             0.4444444444444444,
             "#bd3786"
            ],
            [
             0.5555555555555556,
             "#d8576b"
            ],
            [
             0.6666666666666666,
             "#ed7953"
            ],
            [
             0.7777777777777778,
             "#fb9f3a"
            ],
            [
             0.8888888888888888,
             "#fdca26"
            ],
            [
             1,
             "#f0f921"
            ]
           ],
           "sequentialminus": [
            [
             0,
             "#0d0887"
            ],
            [
             0.1111111111111111,
             "#46039f"
            ],
            [
             0.2222222222222222,
             "#7201a8"
            ],
            [
             0.3333333333333333,
             "#9c179e"
            ],
            [
             0.4444444444444444,
             "#bd3786"
            ],
            [
             0.5555555555555556,
             "#d8576b"
            ],
            [
             0.6666666666666666,
             "#ed7953"
            ],
            [
             0.7777777777777778,
             "#fb9f3a"
            ],
            [
             0.8888888888888888,
             "#fdca26"
            ],
            [
             1,
             "#f0f921"
            ]
           ]
          },
          "colorway": [
           "#636efa",
           "#EF553B",
           "#00cc96",
           "#ab63fa",
           "#FFA15A",
           "#19d3f3",
           "#FF6692",
           "#B6E880",
           "#FF97FF",
           "#FECB52"
          ],
          "font": {
           "color": "#2a3f5f"
          },
          "geo": {
           "bgcolor": "white",
           "lakecolor": "white",
           "landcolor": "white",
           "showlakes": true,
           "showland": true,
           "subunitcolor": "#C8D4E3"
          },
          "hoverlabel": {
           "align": "left"
          },
          "hovermode": "closest",
          "mapbox": {
           "style": "light"
          },
          "paper_bgcolor": "white",
          "plot_bgcolor": "white",
          "polar": {
           "angularaxis": {
            "gridcolor": "#EBF0F8",
            "linecolor": "#EBF0F8",
            "ticks": ""
           },
           "bgcolor": "white",
           "radialaxis": {
            "gridcolor": "#EBF0F8",
            "linecolor": "#EBF0F8",
            "ticks": ""
           }
          },
          "scene": {
           "xaxis": {
            "backgroundcolor": "white",
            "gridcolor": "#DFE8F3",
            "gridwidth": 2,
            "linecolor": "#EBF0F8",
            "showbackground": true,
            "ticks": "",
            "zerolinecolor": "#EBF0F8"
           },
           "yaxis": {
            "backgroundcolor": "white",
            "gridcolor": "#DFE8F3",
            "gridwidth": 2,
            "linecolor": "#EBF0F8",
            "showbackground": true,
            "ticks": "",
            "zerolinecolor": "#EBF0F8"
           },
           "zaxis": {
            "backgroundcolor": "white",
            "gridcolor": "#DFE8F3",
            "gridwidth": 2,
            "linecolor": "#EBF0F8",
            "showbackground": true,
            "ticks": "",
            "zerolinecolor": "#EBF0F8"
           }
          },
          "shapedefaults": {
           "line": {
            "color": "#2a3f5f"
           }
          },
          "ternary": {
           "aaxis": {
            "gridcolor": "#DFE8F3",
            "linecolor": "#A2B1C6",
            "ticks": ""
           },
           "baxis": {
            "gridcolor": "#DFE8F3",
            "linecolor": "#A2B1C6",
            "ticks": ""
           },
           "bgcolor": "white",
           "caxis": {
            "gridcolor": "#DFE8F3",
            "linecolor": "#A2B1C6",
            "ticks": ""
           }
          },
          "title": {
           "x": 0.05
          },
          "xaxis": {
           "automargin": true,
           "gridcolor": "#EBF0F8",
           "linecolor": "#EBF0F8",
           "ticks": "",
           "title": {
            "standoff": 15
           },
           "zerolinecolor": "#EBF0F8",
           "zerolinewidth": 2
          },
          "yaxis": {
           "automargin": true,
           "gridcolor": "#EBF0F8",
           "linecolor": "#EBF0F8",
           "ticks": "",
           "title": {
            "standoff": 15
           },
           "zerolinecolor": "#EBF0F8",
           "zerolinewidth": 2
          }
         }
        },
        "title": {
         "text": "Daily Energy Consumption"
        },
        "updatemenus": [
         {
          "buttons": [
           {
            "args": [
             {
              "visible": [
               true,
               false,
               false
              ]
             },
             {
              "title": "Fridge measurement (days)"
             }
            ],
            "label": "Fridge",
            "method": "update"
           },
           {
            "args": [
             {
              "visible": [
               false,
               true,
               false
              ]
             },
             {
              "title": "Kitchen appliance measurement (days)"
             }
            ],
            "label": "Kitchen appliances",
            "method": "update"
           },
           {
            "args": [
             {
              "visible": [
               false,
               false,
               true
              ]
             },
             {
              "title": "Fridge measurement (days)"
             }
            ],
            "label": "Microwave",
            "method": "update"
           }
          ],
          "direction": "down",
          "pad": {
           "r": 10,
           "t": 10
          },
          "showactive": true,
          "x": 0,
          "xanchor": "left",
          "y": 1.15,
          "yanchor": "top"
         }
        ],
        "xaxis": {
         "title": {
          "text": "Date"
         }
        },
        "yaxis": {
         "title": {
          "text": "Energy Consumption (kWh per day)"
         }
        }
       }
      }
     },
     "metadata": {},
     "output_type": "display_data"
    }
   ],
   "source": [
    "import plotly.graph_objects as go\n",
    "\n",
    "# INITIALIZE GRAPH OBJECT\n",
    "fig = go.Figure()\n",
    "\n",
    "# TRACE-1: Fridge measurement\n",
    "fig.add_trace(\n",
    "    go.Scatter(\n",
    "        x=df_combined[\"date\"],\n",
    "        y=df_combined[\"Fridge measurement\"],\n",
    "        mode=\"lines+markers\",\n",
    "        marker=dict(\n",
    "            color=df_combined[\"Fridge measurement\"],\n",
    "            size=5,\n",
    "            symbol=\"circle\",\n",
    "            line=dict(color=\"DarkBlue\", width=1),\n",
    "            colorbar=dict(title=\"Fridge Energy Consumption (kWh per day)\")\n",
    "        ),\n",
    "        line=dict(color=\"blue\", width=1.5),\n",
    "        name=\"Fridge\",\n",
    "        visible=True,\n",
    "    )\n",
    ")\n",
    "\n",
    "# TRACE-2: Kitchen appliances measurement\n",
    "fig.add_trace(\n",
    "    go.Scatter(\n",
    "        x=df_combined[\"date\"],\n",
    "        y=df_combined[\"Kitchen appliances measurement\"],\n",
    "        mode=\"lines+markers\",\n",
    "        marker=dict(\n",
    "            color=df_combined[\"Kitchen appliances measurement\"],\n",
    "            size=5,\n",
    "            symbol=\"square\",\n",
    "            line=dict(color=\"DarkGreen\", width=1),\n",
    "            colorbar=dict(title=\"Kitchen Appliances Energy Consumption (kWh per day)\")\n",
    "        ),\n",
    "        line=dict(color=\"green\", width=1.5, dash=\"dot\"),\n",
    "        name=\"Kitchen appliances\",\n",
    "        visible=False,\n",
    "    )\n",
    ")\n",
    "\n",
    "# TRACE-3: Microwave measurement\n",
    "fig.add_trace(\n",
    "    go.Scatter(\n",
    "        x=df_combined[\"date\"],\n",
    "        y=df_combined[\"Microwave measurement\"],\n",
    "        mode=\"lines+markers\",\n",
    "        marker=dict(\n",
    "            color=df_combined[\"Microwave measurement\"],\n",
    "            size=5,\n",
    "            symbol=\"diamond\",\n",
    "            line=dict(color=\"DarkRed\", width=1),\n",
    "            colorbar=dict(title=\"Microwave Energy Consumption (kWh per day)\")\n",
    "        ),\n",
    "        line=dict(color=\"red\", width=1.5, dash=\"dash\"),\n",
    "        name=\"Microwave\",\n",
    "        visible=False,\n",
    "    )\n",
    ")\n",
    "\n",
    "# SET THEME, AXIS LABELS\n",
    "fig.update_layout(\n",
    "    template=\"plotly_white\",\n",
    "    xaxis_title=\"Date\",\n",
    "    yaxis_title=\"Energy Consumption (kWh per day)\",\n",
    "    title=\"Daily Energy Consumption\",\n",
    ")\n",
    "\n",
    "# DROPDOWN MENUS\n",
    "fig.update_layout(\n",
    "    updatemenus=[\n",
    "        dict(\n",
    "            buttons=[\n",
    "                dict(\n",
    "                    label=\"Fridge\",\n",
    "                    method=\"update\",\n",
    "                    args=[{\"visible\": [True, False, False]},\n",
    "                        {\"title\": \"Fridge measurement (days)\"}]\n",
    "                    ),\n",
    "                dict(\n",
    "                    label=\"Kitchen appliances\",\n",
    "                    method=\"update\",\n",
    "                    args=[{\"visible\": [False, True, False]},\n",
    "                        {\"title\": \"Kitchen appliance measurement (days)\"}]\n",
    "                    ),\n",
    "                dict(\n",
    "                    label=\"Microwave\",\n",
    "                    method=\"update\",\n",
    "                    args=[{\"visible\": [False, False, True]},\n",
    "                        {\"title\": \"Fridge measurement (days)\"}]\n",
    "                    ),\n",
    "            ],\n",
    "            direction=\"down\",\n",
    "            showactive=True,\n",
    "            pad={\"r\": 10, \"t\": 10},\n",
    "            x=0,\n",
    "            y=1.15,\n",
    "            xanchor=\"left\",\n",
    "            yanchor=\"top\",\n",
    "        )\n",
    "    ]\n",
    ")\n",
    "\n",
    "fig.show()\n"
   ]
  },
  {
   "cell_type": "code",
   "execution_count": 140,
   "metadata": {},
   "outputs": [
    {
     "data": {
      "application/vnd.plotly.v1+json": {
       "config": {
        "plotlyServerURL": "https://plot.ly"
       },
       "data": [
        {
         "line": {
          "color": "blue",
          "width": 1.5
         },
         "marker": {
          "line": {
           "color": "DarkBlue",
           "width": 1
          },
          "size": 5,
          "symbol": "circle"
         },
         "mode": "lines+markers",
         "name": "Fridge",
         "type": "scatter",
         "visible": true,
         "x": [
          "2012-06-27T00:00:00",
          "2012-06-28T00:00:00",
          "2012-06-29T00:00:00",
          "2012-06-30T00:00:00",
          "2012-07-01T00:00:00",
          "2012-07-02T00:00:00",
          "2012-07-03T00:00:00",
          "2012-07-04T00:00:00",
          "2012-07-05T00:00:00",
          "2012-07-06T00:00:00",
          "2012-07-07T00:00:00",
          "2012-07-08T00:00:00",
          "2012-07-09T00:00:00",
          "2012-07-10T00:00:00",
          "2012-07-11T00:00:00",
          "2012-07-12T00:00:00",
          "2012-07-13T00:00:00",
          "2012-07-14T00:00:00",
          "2012-07-15T00:00:00",
          "2012-07-16T00:00:00",
          "2012-07-17T00:00:00",
          "2012-07-18T00:00:00",
          "2012-07-19T00:00:00",
          "2012-07-20T00:00:00",
          "2012-07-21T00:00:00",
          "2012-07-22T00:00:00",
          "2012-07-23T00:00:00",
          "2012-07-24T00:00:00",
          "2012-07-25T00:00:00",
          "2012-07-26T00:00:00",
          "2012-07-27T00:00:00",
          "2012-07-28T00:00:00",
          "2012-07-29T00:00:00",
          "2012-07-30T00:00:00",
          "2012-07-31T00:00:00",
          "2012-08-01T00:00:00",
          "2012-08-02T00:00:00",
          "2012-08-03T00:00:00",
          "2012-08-04T00:00:00",
          "2012-08-05T00:00:00",
          "2012-08-06T00:00:00",
          "2012-08-07T00:00:00",
          "2012-08-08T00:00:00",
          "2012-08-09T00:00:00",
          "2012-08-10T00:00:00",
          "2012-08-11T00:00:00",
          "2012-08-12T00:00:00",
          "2012-08-13T00:00:00",
          "2012-08-14T00:00:00",
          "2012-08-15T00:00:00",
          "2012-08-16T00:00:00",
          "2012-08-17T00:00:00",
          "2012-08-18T00:00:00",
          "2012-08-19T00:00:00",
          "2012-08-20T00:00:00",
          "2012-08-21T00:00:00",
          "2012-08-22T00:00:00",
          "2012-08-23T00:00:00",
          "2012-08-24T00:00:00",
          "2012-08-25T00:00:00",
          "2012-08-26T00:00:00",
          "2012-08-27T00:00:00",
          "2012-08-28T00:00:00",
          "2012-08-29T00:00:00",
          "2012-08-30T00:00:00",
          "2012-08-31T00:00:00",
          "2012-09-01T00:00:00",
          "2012-09-02T00:00:00",
          "2012-09-03T00:00:00",
          "2012-09-04T00:00:00",
          "2012-09-05T00:00:00",
          "2012-09-11T00:00:00",
          "2012-09-12T00:00:00",
          "2012-09-13T00:00:00",
          "2012-09-14T00:00:00",
          "2012-09-15T00:00:00",
          "2012-09-16T00:00:00",
          "2012-09-17T00:00:00",
          "2012-09-18T00:00:00",
          "2012-09-19T00:00:00",
          "2012-09-20T00:00:00",
          "2012-09-21T00:00:00",
          "2012-09-22T00:00:00",
          "2012-09-23T00:00:00",
          "2012-09-24T00:00:00",
          "2012-09-25T00:00:00",
          "2012-09-26T00:00:00",
          "2012-09-27T00:00:00",
          "2012-09-28T00:00:00",
          "2012-09-29T00:00:00",
          "2012-09-30T00:00:00",
          "2012-10-01T00:00:00",
          "2012-10-02T00:00:00",
          "2012-10-03T00:00:00",
          "2012-10-04T00:00:00",
          "2012-10-05T00:00:00",
          "2012-10-06T00:00:00",
          "2012-10-07T00:00:00",
          "2012-10-08T00:00:00",
          "2012-10-09T00:00:00",
          "2012-10-10T00:00:00",
          "2012-10-11T00:00:00",
          "2012-10-12T00:00:00",
          "2012-10-13T00:00:00",
          "2012-10-14T00:00:00",
          "2012-10-15T00:00:00",
          "2012-10-16T00:00:00",
          "2012-10-17T00:00:00",
          "2012-10-18T00:00:00",
          "2012-10-19T00:00:00",
          "2012-10-20T00:00:00",
          "2012-10-21T00:00:00",
          "2012-10-22T00:00:00",
          "2012-10-23T00:00:00",
          "2012-10-24T00:00:00",
          "2012-10-25T00:00:00",
          "2012-11-07T00:00:00",
          "2012-11-08T00:00:00",
          "2012-11-09T00:00:00",
          "2012-11-10T00:00:00",
          "2012-11-11T00:00:00",
          "2012-11-12T00:00:00",
          "2012-11-13T00:00:00",
          "2012-11-14T00:00:00",
          "2012-11-15T00:00:00",
          "2012-11-16T00:00:00",
          "2012-11-17T00:00:00",
          "2012-11-18T00:00:00",
          "2012-11-19T00:00:00",
          "2012-11-20T00:00:00",
          "2012-11-21T00:00:00",
          "2012-11-22T00:00:00",
          "2012-11-23T00:00:00",
          "2012-11-24T00:00:00",
          "2012-11-25T00:00:00",
          "2012-11-26T00:00:00",
          "2012-11-27T00:00:00",
          "2012-11-28T00:00:00",
          "2012-11-29T00:00:00",
          "2012-11-30T00:00:00",
          "2012-12-01T00:00:00",
          "2012-12-02T00:00:00",
          "2012-12-03T00:00:00",
          "2012-12-04T00:00:00",
          "2012-12-05T00:00:00",
          "2012-12-06T00:00:00",
          "2012-12-07T00:00:00",
          "2012-12-08T00:00:00",
          "2012-12-09T00:00:00",
          "2012-12-10T00:00:00",
          "2012-12-11T00:00:00",
          "2012-12-12T00:00:00",
          "2012-12-13T00:00:00",
          "2012-12-14T00:00:00",
          "2012-12-15T00:00:00",
          "2012-12-16T00:00:00",
          "2012-12-17T00:00:00",
          "2012-12-18T00:00:00",
          "2012-12-19T00:00:00",
          "2012-12-20T00:00:00",
          "2012-12-21T00:00:00",
          "2012-12-22T00:00:00",
          "2012-12-23T00:00:00",
          "2012-12-24T00:00:00",
          "2012-12-25T00:00:00",
          "2012-12-26T00:00:00",
          "2012-12-27T00:00:00",
          "2012-12-28T00:00:00",
          "2012-12-29T00:00:00",
          "2012-12-30T00:00:00",
          "2012-12-31T00:00:00",
          "2013-01-01T00:00:00",
          "2013-01-02T00:00:00",
          "2013-01-03T00:00:00",
          "2013-01-04T00:00:00",
          "2013-01-05T00:00:00",
          "2013-01-06T00:00:00",
          "2013-01-07T00:00:00",
          "2013-01-08T00:00:00",
          "2013-01-09T00:00:00",
          "2013-01-10T00:00:00",
          "2013-01-11T00:00:00",
          "2013-01-12T00:00:00",
          "2013-01-13T00:00:00",
          "2013-01-14T00:00:00",
          "2013-01-15T00:00:00",
          "2013-01-16T00:00:00",
          "2013-01-17T00:00:00",
          "2013-01-18T00:00:00",
          "2013-01-19T00:00:00",
          "2013-01-20T00:00:00",
          "2013-01-21T00:00:00",
          "2013-01-22T00:00:00",
          "2013-01-23T00:00:00"
         ],
         "y": [
          0.73,
          0.65,
          0.61,
          0.86,
          0.77,
          0.73,
          0.75,
          0.71,
          0.74,
          0.65,
          0.67,
          0.69,
          0.74,
          0.74,
          0.73,
          0.7,
          0.66,
          0.69,
          0.59,
          0.61,
          0.61,
          0.64,
          0.65,
          0.68,
          0.62,
          0.65,
          0.62,
          0.76,
          0.73,
          0.8,
          0.84,
          0.92,
          0.79,
          0.74,
          0.77,
          0.89,
          0.91,
          0.86,
          0.92,
          0.87,
          0.81,
          0.73,
          0.83,
          0.76,
          0.72,
          0.76,
          0.81,
          0.8,
          0.81,
          0.86,
          0.93,
          0.76,
          0.85,
          0.89,
          0.93,
          0.98,
          0.98,
          0.97,
          0.88,
          0.87,
          0.79,
          0.76,
          0.79,
          0.81,
          0.81,
          0.59,
          0.61,
          0.59,
          0.65,
          0.66,
          0.21,
          0.42,
          0.79,
          0.65,
          0.24,
          0.16,
          0.63,
          0.67,
          0.67,
          0.71,
          0.62,
          0.6,
          0.63,
          0.66,
          0.66,
          0.64,
          0.63,
          0.63,
          0.63,
          0.65,
          0.58,
          0.66,
          0.57,
          0.59,
          0.6,
          0.63,
          0.59,
          0.68,
          0.65,
          0.64,
          0.67,
          0.65,
          0.62,
          0.59,
          0.59,
          0.63,
          0.58,
          0.64,
          0.65,
          0.63,
          0.66,
          0.63,
          0.67,
          0.68,
          0.63,
          0.19,
          0.17,
          0.62,
          0.61,
          0.63,
          0.61,
          0.63,
          0.63,
          0.65,
          0.6,
          0.6,
          0.61,
          0.56,
          0.63,
          0.62,
          0.65,
          0.6,
          0.57,
          0.56,
          0.65,
          0.64,
          0.64,
          0.7,
          0.58,
          0.56,
          0.6,
          0.55,
          0.58,
          0.6,
          0.61,
          0.62,
          0.61,
          0.57,
          0.58,
          0.59,
          0.62,
          0.6,
          0.46,
          0.57,
          0.58,
          0.62,
          0.65,
          0.61,
          0.64,
          0.6,
          0.55,
          0.56,
          0.58,
          0.64,
          0.6,
          0.61,
          0.56,
          0.56,
          0.56,
          0.6,
          0.59,
          0.59,
          0.58,
          0.58,
          0.55,
          0.56,
          0.55,
          0.59,
          0.56,
          0.57,
          0.56,
          0.54,
          0.52,
          0.56,
          0.58,
          0.55,
          0.52,
          0.53,
          0.52,
          0.54,
          0.52,
          0.52,
          0.51,
          0.38
         ]
        },
        {
         "line": {
          "color": "green",
          "dash": "dot",
          "width": 1.5
         },
         "marker": {
          "line": {
           "color": "DarkGreen",
           "width": 1
          },
          "size": 5,
          "symbol": "square"
         },
         "mode": "lines+markers",
         "name": "Kitchen appliances",
         "type": "scatter",
         "visible": true,
         "x": [
          "2012-06-27T00:00:00",
          "2012-06-28T00:00:00",
          "2012-06-29T00:00:00",
          "2012-06-30T00:00:00",
          "2012-07-01T00:00:00",
          "2012-07-02T00:00:00",
          "2012-07-03T00:00:00",
          "2012-07-04T00:00:00",
          "2012-07-05T00:00:00",
          "2012-07-06T00:00:00",
          "2012-07-07T00:00:00",
          "2012-07-08T00:00:00",
          "2012-07-09T00:00:00",
          "2012-07-10T00:00:00",
          "2012-07-11T00:00:00",
          "2012-07-12T00:00:00",
          "2012-07-13T00:00:00",
          "2012-07-14T00:00:00",
          "2012-07-15T00:00:00",
          "2012-07-16T00:00:00",
          "2012-07-17T00:00:00",
          "2012-07-18T00:00:00",
          "2012-07-19T00:00:00",
          "2012-07-20T00:00:00",
          "2012-07-21T00:00:00",
          "2012-07-22T00:00:00",
          "2012-07-23T00:00:00",
          "2012-07-24T00:00:00",
          "2012-07-25T00:00:00",
          "2012-07-26T00:00:00",
          "2012-07-27T00:00:00",
          "2012-07-28T00:00:00",
          "2012-07-29T00:00:00",
          "2012-07-30T00:00:00",
          "2012-07-31T00:00:00",
          "2012-08-01T00:00:00",
          "2012-08-02T00:00:00",
          "2012-08-03T00:00:00",
          "2012-08-04T00:00:00",
          "2012-08-05T00:00:00",
          "2012-08-06T00:00:00",
          "2012-08-07T00:00:00",
          "2012-08-08T00:00:00",
          "2012-08-09T00:00:00",
          "2012-08-10T00:00:00",
          "2012-08-11T00:00:00",
          "2012-08-12T00:00:00",
          "2012-08-13T00:00:00",
          "2012-08-14T00:00:00",
          "2012-08-15T00:00:00",
          "2012-08-16T00:00:00",
          "2012-08-17T00:00:00",
          "2012-08-18T00:00:00",
          "2012-08-19T00:00:00",
          "2012-08-20T00:00:00",
          "2012-08-21T00:00:00",
          "2012-08-22T00:00:00",
          "2012-08-23T00:00:00",
          "2012-08-24T00:00:00",
          "2012-08-25T00:00:00",
          "2012-08-26T00:00:00",
          "2012-08-27T00:00:00",
          "2012-08-28T00:00:00",
          "2012-08-29T00:00:00",
          "2012-08-30T00:00:00",
          "2012-08-31T00:00:00",
          "2012-09-01T00:00:00",
          "2012-09-02T00:00:00",
          "2012-09-03T00:00:00",
          "2012-09-04T00:00:00",
          "2012-09-05T00:00:00",
          "2012-09-11T00:00:00",
          "2012-09-12T00:00:00",
          "2012-09-13T00:00:00",
          "2012-09-14T00:00:00",
          "2012-09-15T00:00:00",
          "2012-09-16T00:00:00",
          "2012-09-17T00:00:00",
          "2012-09-18T00:00:00",
          "2012-09-19T00:00:00",
          "2012-09-20T00:00:00",
          "2012-09-21T00:00:00",
          "2012-09-22T00:00:00",
          "2012-09-23T00:00:00",
          "2012-09-24T00:00:00",
          "2012-09-25T00:00:00",
          "2012-09-26T00:00:00",
          "2012-09-27T00:00:00",
          "2012-09-28T00:00:00",
          "2012-09-29T00:00:00",
          "2012-09-30T00:00:00",
          "2012-10-01T00:00:00",
          "2012-10-02T00:00:00",
          "2012-10-03T00:00:00",
          "2012-10-04T00:00:00",
          "2012-10-05T00:00:00",
          "2012-10-06T00:00:00",
          "2012-10-07T00:00:00",
          "2012-10-08T00:00:00",
          "2012-10-09T00:00:00",
          "2012-10-10T00:00:00",
          "2012-10-11T00:00:00",
          "2012-10-12T00:00:00",
          "2012-10-13T00:00:00",
          "2012-10-14T00:00:00",
          "2012-10-15T00:00:00",
          "2012-10-16T00:00:00",
          "2012-10-17T00:00:00",
          "2012-10-18T00:00:00",
          "2012-10-19T00:00:00",
          "2012-10-20T00:00:00",
          "2012-10-21T00:00:00",
          "2012-10-22T00:00:00",
          "2012-10-23T00:00:00",
          "2012-10-24T00:00:00",
          "2012-10-25T00:00:00",
          "2012-11-07T00:00:00",
          "2012-11-08T00:00:00",
          "2012-11-09T00:00:00",
          "2012-11-10T00:00:00",
          "2012-11-11T00:00:00",
          "2012-11-12T00:00:00",
          "2012-11-13T00:00:00",
          "2012-11-14T00:00:00",
          "2012-11-15T00:00:00",
          "2012-11-16T00:00:00",
          "2012-11-17T00:00:00",
          "2012-11-18T00:00:00",
          "2012-11-19T00:00:00",
          "2012-11-20T00:00:00",
          "2012-11-21T00:00:00",
          "2012-11-22T00:00:00",
          "2012-11-23T00:00:00",
          "2012-11-24T00:00:00",
          "2012-11-25T00:00:00",
          "2012-11-26T00:00:00",
          "2012-11-27T00:00:00",
          "2012-11-28T00:00:00",
          "2012-11-29T00:00:00",
          "2012-11-30T00:00:00",
          "2012-12-01T00:00:00",
          "2012-12-02T00:00:00",
          "2012-12-03T00:00:00",
          "2012-12-04T00:00:00",
          "2012-12-05T00:00:00",
          "2012-12-06T00:00:00",
          "2012-12-07T00:00:00",
          "2012-12-08T00:00:00",
          "2012-12-09T00:00:00",
          "2012-12-10T00:00:00",
          "2012-12-11T00:00:00",
          "2012-12-12T00:00:00",
          "2012-12-13T00:00:00",
          "2012-12-14T00:00:00",
          "2012-12-15T00:00:00",
          "2012-12-16T00:00:00",
          "2012-12-17T00:00:00",
          "2012-12-18T00:00:00",
          "2012-12-19T00:00:00",
          "2012-12-20T00:00:00",
          "2012-12-21T00:00:00",
          "2012-12-22T00:00:00",
          "2012-12-23T00:00:00",
          "2012-12-24T00:00:00",
          "2012-12-25T00:00:00",
          "2012-12-26T00:00:00",
          "2012-12-27T00:00:00",
          "2012-12-28T00:00:00",
          "2012-12-29T00:00:00",
          "2012-12-30T00:00:00",
          "2012-12-31T00:00:00",
          "2013-01-01T00:00:00",
          "2013-01-02T00:00:00",
          "2013-01-03T00:00:00",
          "2013-01-04T00:00:00",
          "2013-01-05T00:00:00",
          "2013-01-06T00:00:00",
          "2013-01-07T00:00:00",
          "2013-01-08T00:00:00",
          "2013-01-09T00:00:00",
          "2013-01-10T00:00:00",
          "2013-01-11T00:00:00",
          "2013-01-12T00:00:00",
          "2013-01-13T00:00:00",
          "2013-01-14T00:00:00",
          "2013-01-15T00:00:00",
          "2013-01-16T00:00:00",
          "2013-01-17T00:00:00",
          "2013-01-18T00:00:00",
          "2013-01-19T00:00:00",
          "2013-01-20T00:00:00",
          "2013-01-21T00:00:00",
          "2013-01-22T00:00:00",
          "2013-01-23T00:00:00"
         ],
         "y": [
          0.19,
          0.47,
          0.24,
          0.22,
          0.19,
          0.22,
          0.53,
          0.19,
          0.1,
          0.21,
          0.13,
          0.22,
          0.15,
          0.22,
          0.3,
          0.2,
          0.38,
          0.12,
          0.01,
          0.01,
          0.01,
          0.01,
          0.01,
          0.01,
          0.01,
          0.09,
          0.23,
          0.1,
          0.01,
          0.01,
          0.01,
          0.09,
          0.07,
          0.23,
          0.43,
          0.1,
          0.2,
          0.5,
          0.08,
          0,
          0.14,
          0.11,
          0.05,
          0.18,
          0.24,
          0.09,
          0.2,
          0.22,
          0.56,
          0.2,
          0.23,
          0.29,
          0.14,
          0.16,
          0.28,
          0.53,
          0.1,
          0.1,
          0.11,
          0.26,
          0.23,
          0.4,
          0.52,
          0.19,
          0.26,
          0.01,
          0.14,
          0.09,
          0.22,
          0.32,
          0.09,
          0.11,
          0.2,
          0.18,
          0.09,
          0.08,
          0.23,
          0.18,
          0.23,
          0.18,
          0.29,
          0.32,
          0.3,
          0.23,
          0.23,
          0.24,
          0.59,
          0.2,
          0.26,
          0.19,
          0.39,
          0.11,
          0.01,
          0.01,
          0.13,
          0.32,
          0.19,
          0.3,
          0.52,
          0.34,
          0.18,
          0.17,
          0.19,
          0.13,
          0.09,
          0.14,
          0.16,
          0.27,
          0.17,
          0.44,
          0.22,
          0.13,
          0.23,
          0.21,
          0.19,
          0.09,
          0.1,
          0.27,
          0.27,
          0.15,
          0.57,
          0.19,
          0.18,
          0.32,
          0.19,
          0.3,
          0.2,
          0.13,
          0.58,
          0.22,
          0.23,
          0.41,
          0.43,
          0.23,
          0.31,
          0.17,
          0.27,
          0.29,
          0.19,
          0.21,
          0.23,
          0.2,
          0.6,
          0.26,
          0.21,
          0.26,
          0.21,
          0.18,
          0.26,
          0.29,
          0.31,
          0.53,
          0.29,
          0.22,
          0.26,
          0.62,
          0.25,
          0.21,
          0.25,
          0.19,
          0.22,
          0.21,
          0.34,
          0.13,
          0.2,
          0.57,
          0.17,
          0.18,
          0.26,
          0.21,
          0.09,
          0.62,
          0.19,
          0.21,
          0.17,
          0.18,
          0.22,
          0.25,
          0.17,
          0.18,
          0.44,
          0.2,
          0.22,
          0.15,
          0.36,
          0.25,
          0.18,
          0.6,
          0.19,
          0.25,
          0.16,
          0.6,
          0.22,
          0.14
         ]
        },
        {
         "line": {
          "color": "red",
          "dash": "dash",
          "width": 1.5
         },
         "marker": {
          "line": {
           "color": "DarkRed",
           "width": 1
          },
          "size": 5,
          "symbol": "diamond"
         },
         "mode": "lines+markers",
         "name": "Microwave",
         "type": "scatter",
         "visible": true,
         "x": [
          "2012-06-27T00:00:00",
          "2012-06-28T00:00:00",
          "2012-06-29T00:00:00",
          "2012-06-30T00:00:00",
          "2012-07-01T00:00:00",
          "2012-07-02T00:00:00",
          "2012-07-03T00:00:00",
          "2012-07-04T00:00:00",
          "2012-07-05T00:00:00",
          "2012-07-06T00:00:00",
          "2012-07-07T00:00:00",
          "2012-07-08T00:00:00",
          "2012-07-09T00:00:00",
          "2012-07-10T00:00:00",
          "2012-07-11T00:00:00",
          "2012-07-12T00:00:00",
          "2012-07-13T00:00:00",
          "2012-07-14T00:00:00",
          "2012-07-15T00:00:00",
          "2012-07-16T00:00:00",
          "2012-07-17T00:00:00",
          "2012-07-18T00:00:00",
          "2012-07-19T00:00:00",
          "2012-07-20T00:00:00",
          "2012-07-21T00:00:00",
          "2012-07-22T00:00:00",
          "2012-07-23T00:00:00",
          "2012-07-24T00:00:00",
          "2012-07-25T00:00:00",
          "2012-07-26T00:00:00",
          "2012-07-27T00:00:00",
          "2012-07-28T00:00:00",
          "2012-07-29T00:00:00",
          "2012-07-30T00:00:00",
          "2012-07-31T00:00:00",
          "2012-08-01T00:00:00",
          "2012-08-02T00:00:00",
          "2012-08-03T00:00:00",
          "2012-08-04T00:00:00",
          "2012-08-05T00:00:00",
          "2012-08-06T00:00:00",
          "2012-08-07T00:00:00",
          "2012-08-08T00:00:00",
          "2012-08-09T00:00:00",
          "2012-08-10T00:00:00",
          "2012-08-11T00:00:00",
          "2012-08-12T00:00:00",
          "2012-08-13T00:00:00",
          "2012-08-14T00:00:00",
          "2012-08-15T00:00:00",
          "2012-08-16T00:00:00",
          "2012-08-17T00:00:00",
          "2012-08-18T00:00:00",
          "2012-08-19T00:00:00",
          "2012-08-20T00:00:00",
          "2012-08-21T00:00:00",
          "2012-08-22T00:00:00",
          "2012-08-23T00:00:00",
          "2012-08-24T00:00:00",
          "2012-08-25T00:00:00",
          "2012-08-26T00:00:00",
          "2012-08-27T00:00:00",
          "2012-08-28T00:00:00",
          "2012-08-29T00:00:00",
          "2012-08-30T00:00:00",
          "2012-08-31T00:00:00",
          "2012-09-01T00:00:00",
          "2012-09-02T00:00:00",
          "2012-09-03T00:00:00",
          "2012-09-04T00:00:00",
          "2012-09-05T00:00:00",
          "2012-09-11T00:00:00",
          "2012-09-12T00:00:00",
          "2012-09-13T00:00:00",
          "2012-09-14T00:00:00",
          "2012-09-15T00:00:00",
          "2012-09-16T00:00:00",
          "2012-09-17T00:00:00",
          "2012-09-18T00:00:00",
          "2012-09-19T00:00:00",
          "2012-09-20T00:00:00",
          "2012-09-21T00:00:00",
          "2012-09-22T00:00:00",
          "2012-09-23T00:00:00",
          "2012-09-24T00:00:00",
          "2012-09-25T00:00:00",
          "2012-09-26T00:00:00",
          "2012-09-27T00:00:00",
          "2012-09-28T00:00:00",
          "2012-09-29T00:00:00",
          "2012-09-30T00:00:00",
          "2012-10-01T00:00:00",
          "2012-10-02T00:00:00",
          "2012-10-03T00:00:00",
          "2012-10-04T00:00:00",
          "2012-10-05T00:00:00",
          "2012-10-06T00:00:00",
          "2012-10-07T00:00:00",
          "2012-10-08T00:00:00",
          "2012-10-09T00:00:00",
          "2012-10-10T00:00:00",
          "2012-10-11T00:00:00",
          "2012-10-12T00:00:00",
          "2012-10-13T00:00:00",
          "2012-10-14T00:00:00",
          "2012-10-15T00:00:00",
          "2012-10-16T00:00:00",
          "2012-10-17T00:00:00",
          "2012-10-18T00:00:00",
          "2012-10-19T00:00:00",
          "2012-10-20T00:00:00",
          "2012-10-21T00:00:00",
          "2012-10-22T00:00:00",
          "2012-10-23T00:00:00",
          "2012-10-24T00:00:00",
          "2012-10-25T00:00:00",
          "2012-11-07T00:00:00",
          "2012-11-08T00:00:00",
          "2012-11-09T00:00:00",
          "2012-11-10T00:00:00",
          "2012-11-11T00:00:00",
          "2012-11-12T00:00:00",
          "2012-11-13T00:00:00",
          "2012-11-14T00:00:00",
          "2012-11-15T00:00:00",
          "2012-11-16T00:00:00",
          "2012-11-17T00:00:00",
          "2012-11-18T00:00:00",
          "2012-11-19T00:00:00",
          "2012-11-20T00:00:00",
          "2012-11-21T00:00:00",
          "2012-11-22T00:00:00",
          "2012-11-23T00:00:00",
          "2012-11-24T00:00:00",
          "2012-11-25T00:00:00",
          "2012-11-26T00:00:00",
          "2012-11-27T00:00:00",
          "2012-11-28T00:00:00",
          "2012-11-29T00:00:00",
          "2012-11-30T00:00:00",
          "2012-12-01T00:00:00",
          "2012-12-02T00:00:00",
          "2012-12-03T00:00:00",
          "2012-12-04T00:00:00",
          "2012-12-05T00:00:00",
          "2012-12-06T00:00:00",
          "2012-12-07T00:00:00",
          "2012-12-08T00:00:00",
          "2012-12-09T00:00:00",
          "2012-12-10T00:00:00",
          "2012-12-11T00:00:00",
          "2012-12-12T00:00:00",
          "2012-12-13T00:00:00",
          "2012-12-14T00:00:00",
          "2012-12-15T00:00:00",
          "2012-12-16T00:00:00",
          "2012-12-17T00:00:00",
          "2012-12-18T00:00:00",
          "2012-12-19T00:00:00",
          "2012-12-20T00:00:00",
          "2012-12-21T00:00:00",
          "2012-12-22T00:00:00",
          "2012-12-23T00:00:00",
          "2012-12-24T00:00:00",
          "2012-12-25T00:00:00",
          "2012-12-26T00:00:00",
          "2012-12-27T00:00:00",
          "2012-12-28T00:00:00",
          "2012-12-29T00:00:00",
          "2012-12-30T00:00:00",
          "2012-12-31T00:00:00",
          "2013-01-01T00:00:00",
          "2013-01-02T00:00:00",
          "2013-01-03T00:00:00",
          "2013-01-04T00:00:00",
          "2013-01-05T00:00:00",
          "2013-01-06T00:00:00",
          "2013-01-07T00:00:00",
          "2013-01-08T00:00:00",
          "2013-01-09T00:00:00",
          "2013-01-10T00:00:00",
          "2013-01-11T00:00:00",
          "2013-01-12T00:00:00",
          "2013-01-13T00:00:00",
          "2013-01-14T00:00:00",
          "2013-01-15T00:00:00",
          "2013-01-16T00:00:00",
          "2013-01-17T00:00:00",
          "2013-01-18T00:00:00",
          "2013-01-19T00:00:00",
          "2013-01-20T00:00:00",
          "2013-01-21T00:00:00",
          "2013-01-22T00:00:00",
          "2013-01-23T00:00:00"
         ],
         "y": [
          0.42,
          0.41,
          1.4,
          0.39,
          0.11,
          0.17,
          0.14,
          0.13,
          0.23,
          0.37,
          0.13,
          0.21,
          0.91,
          0.26,
          0.32,
          0.31,
          0.63,
          0.11,
          0.08,
          0.09,
          0.09,
          0.09,
          0.09,
          0.09,
          0.09,
          0.25,
          0.17,
          0.09,
          0.11,
          0.09,
          0.1,
          0.15,
          0.09,
          0.28,
          0.47,
          0.51,
          0.36,
          0.26,
          0.38,
          0.13,
          0.51,
          0.77,
          0.5,
          0.36,
          0.24,
          0.14,
          0.96,
          0.25,
          0.56,
          0.38,
          0.28,
          0.33,
          0.18,
          0.24,
          0.84,
          0.6,
          0.33,
          0.65,
          0.33,
          0.28,
          0.64,
          0.79,
          0.46,
          0.5,
          0.35,
          0.09,
          0.2,
          0.38,
          0.65,
          0.46,
          0.04,
          0.26,
          0.38,
          0.16,
          0.05,
          0.04,
          0.13,
          0.29,
          0.26,
          0.32,
          0.7,
          0.78,
          0.2,
          0.19,
          0.28,
          0.66,
          0.47,
          0.98,
          0.29,
          0.36,
          0.51,
          0.1,
          0.09,
          0.09,
          0.27,
          0.2,
          0.24,
          0.2,
          0.38,
          0.25,
          1.1,
          0.24,
          0.52,
          0.1,
          0.25,
          0.65,
          0.35,
          0.7,
          0.29,
          0.39,
          0.24,
          0.14,
          0.82,
          0.29,
          0.52,
          0.04,
          0.06,
          0.33,
          0.37,
          0.29,
          0.57,
          0.88,
          0.3,
          0.71,
          0.63,
          0.75,
          0.24,
          0.24,
          1.3,
          0.54,
          0.46,
          0.47,
          0.49,
          0.22,
          0.1,
          0.63,
          1.29,
          1.53,
          0.61,
          0.73,
          0.44,
          0.11,
          0.51,
          0.29,
          0.4,
          0.55,
          0.53,
          0.27,
          0.22,
          0.61,
          0.15,
          0.67,
          0.26,
          0.37,
          0.3,
          0.13,
          0.12,
          0.31,
          0.69,
          0.3,
          0.36,
          0.39,
          0.32,
          0.37,
          0.41,
          0.37,
          0.18,
          0.22,
          0.55,
          1.02,
          0.09,
          0.6,
          0.32,
          0.28,
          0.24,
          0.54,
          0.26,
          0.65,
          0.12,
          0.25,
          0.65,
          0.76,
          0.39,
          0.12,
          0.42,
          0.31,
          0.49,
          0.75,
          0.44,
          0.14,
          0.14,
          0.31,
          0.28,
          0.22
         ]
        }
       ],
       "layout": {
        "template": {
         "data": {
          "bar": [
           {
            "error_x": {
             "color": "#2a3f5f"
            },
            "error_y": {
             "color": "#2a3f5f"
            },
            "marker": {
             "line": {
              "color": "white",
              "width": 0.5
             },
             "pattern": {
              "fillmode": "overlay",
              "size": 10,
              "solidity": 0.2
             }
            },
            "type": "bar"
           }
          ],
          "barpolar": [
           {
            "marker": {
             "line": {
              "color": "white",
              "width": 0.5
             },
             "pattern": {
              "fillmode": "overlay",
              "size": 10,
              "solidity": 0.2
             }
            },
            "type": "barpolar"
           }
          ],
          "carpet": [
           {
            "aaxis": {
             "endlinecolor": "#2a3f5f",
             "gridcolor": "#C8D4E3",
             "linecolor": "#C8D4E3",
             "minorgridcolor": "#C8D4E3",
             "startlinecolor": "#2a3f5f"
            },
            "baxis": {
             "endlinecolor": "#2a3f5f",
             "gridcolor": "#C8D4E3",
             "linecolor": "#C8D4E3",
             "minorgridcolor": "#C8D4E3",
             "startlinecolor": "#2a3f5f"
            },
            "type": "carpet"
           }
          ],
          "choropleth": [
           {
            "colorbar": {
             "outlinewidth": 0,
             "ticks": ""
            },
            "type": "choropleth"
           }
          ],
          "contour": [
           {
            "colorbar": {
             "outlinewidth": 0,
             "ticks": ""
            },
            "colorscale": [
             [
              0,
              "#0d0887"
             ],
             [
              0.1111111111111111,
              "#46039f"
             ],
             [
              0.2222222222222222,
              "#7201a8"
             ],
             [
              0.3333333333333333,
              "#9c179e"
             ],
             [
              0.4444444444444444,
              "#bd3786"
             ],
             [
              0.5555555555555556,
              "#d8576b"
             ],
             [
              0.6666666666666666,
              "#ed7953"
             ],
             [
              0.7777777777777778,
              "#fb9f3a"
             ],
             [
              0.8888888888888888,
              "#fdca26"
             ],
             [
              1,
              "#f0f921"
             ]
            ],
            "type": "contour"
           }
          ],
          "contourcarpet": [
           {
            "colorbar": {
             "outlinewidth": 0,
             "ticks": ""
            },
            "type": "contourcarpet"
           }
          ],
          "heatmap": [
           {
            "colorbar": {
             "outlinewidth": 0,
             "ticks": ""
            },
            "colorscale": [
             [
              0,
              "#0d0887"
             ],
             [
              0.1111111111111111,
              "#46039f"
             ],
             [
              0.2222222222222222,
              "#7201a8"
             ],
             [
              0.3333333333333333,
              "#9c179e"
             ],
             [
              0.4444444444444444,
              "#bd3786"
             ],
             [
              0.5555555555555556,
              "#d8576b"
             ],
             [
              0.6666666666666666,
              "#ed7953"
             ],
             [
              0.7777777777777778,
              "#fb9f3a"
             ],
             [
              0.8888888888888888,
              "#fdca26"
             ],
             [
              1,
              "#f0f921"
             ]
            ],
            "type": "heatmap"
           }
          ],
          "heatmapgl": [
           {
            "colorbar": {
             "outlinewidth": 0,
             "ticks": ""
            },
            "colorscale": [
             [
              0,
              "#0d0887"
             ],
             [
              0.1111111111111111,
              "#46039f"
             ],
             [
              0.2222222222222222,
              "#7201a8"
             ],
             [
              0.3333333333333333,
              "#9c179e"
             ],
             [
              0.4444444444444444,
              "#bd3786"
             ],
             [
              0.5555555555555556,
              "#d8576b"
             ],
             [
              0.6666666666666666,
              "#ed7953"
             ],
             [
              0.7777777777777778,
              "#fb9f3a"
             ],
             [
              0.8888888888888888,
              "#fdca26"
             ],
             [
              1,
              "#f0f921"
             ]
            ],
            "type": "heatmapgl"
           }
          ],
          "histogram": [
           {
            "marker": {
             "pattern": {
              "fillmode": "overlay",
              "size": 10,
              "solidity": 0.2
             }
            },
            "type": "histogram"
           }
          ],
          "histogram2d": [
           {
            "colorbar": {
             "outlinewidth": 0,
             "ticks": ""
            },
            "colorscale": [
             [
              0,
              "#0d0887"
             ],
             [
              0.1111111111111111,
              "#46039f"
             ],
             [
              0.2222222222222222,
              "#7201a8"
             ],
             [
              0.3333333333333333,
              "#9c179e"
             ],
             [
              0.4444444444444444,
              "#bd3786"
             ],
             [
              0.5555555555555556,
              "#d8576b"
             ],
             [
              0.6666666666666666,
              "#ed7953"
             ],
             [
              0.7777777777777778,
              "#fb9f3a"
             ],
             [
              0.8888888888888888,
              "#fdca26"
             ],
             [
              1,
              "#f0f921"
             ]
            ],
            "type": "histogram2d"
           }
          ],
          "histogram2dcontour": [
           {
            "colorbar": {
             "outlinewidth": 0,
             "ticks": ""
            },
            "colorscale": [
             [
              0,
              "#0d0887"
             ],
             [
              0.1111111111111111,
              "#46039f"
             ],
             [
              0.2222222222222222,
              "#7201a8"
             ],
             [
              0.3333333333333333,
              "#9c179e"
             ],
             [
              0.4444444444444444,
              "#bd3786"
             ],
             [
              0.5555555555555556,
              "#d8576b"
             ],
             [
              0.6666666666666666,
              "#ed7953"
             ],
             [
              0.7777777777777778,
              "#fb9f3a"
             ],
             [
              0.8888888888888888,
              "#fdca26"
             ],
             [
              1,
              "#f0f921"
             ]
            ],
            "type": "histogram2dcontour"
           }
          ],
          "mesh3d": [
           {
            "colorbar": {
             "outlinewidth": 0,
             "ticks": ""
            },
            "type": "mesh3d"
           }
          ],
          "parcoords": [
           {
            "line": {
             "colorbar": {
              "outlinewidth": 0,
              "ticks": ""
             }
            },
            "type": "parcoords"
           }
          ],
          "pie": [
           {
            "automargin": true,
            "type": "pie"
           }
          ],
          "scatter": [
           {
            "fillpattern": {
             "fillmode": "overlay",
             "size": 10,
             "solidity": 0.2
            },
            "type": "scatter"
           }
          ],
          "scatter3d": [
           {
            "line": {
             "colorbar": {
              "outlinewidth": 0,
              "ticks": ""
             }
            },
            "marker": {
             "colorbar": {
              "outlinewidth": 0,
              "ticks": ""
             }
            },
            "type": "scatter3d"
           }
          ],
          "scattercarpet": [
           {
            "marker": {
             "colorbar": {
              "outlinewidth": 0,
              "ticks": ""
             }
            },
            "type": "scattercarpet"
           }
          ],
          "scattergeo": [
           {
            "marker": {
             "colorbar": {
              "outlinewidth": 0,
              "ticks": ""
             }
            },
            "type": "scattergeo"
           }
          ],
          "scattergl": [
           {
            "marker": {
             "colorbar": {
              "outlinewidth": 0,
              "ticks": ""
             }
            },
            "type": "scattergl"
           }
          ],
          "scattermapbox": [
           {
            "marker": {
             "colorbar": {
              "outlinewidth": 0,
              "ticks": ""
             }
            },
            "type": "scattermapbox"
           }
          ],
          "scatterpolar": [
           {
            "marker": {
             "colorbar": {
              "outlinewidth": 0,
              "ticks": ""
             }
            },
            "type": "scatterpolar"
           }
          ],
          "scatterpolargl": [
           {
            "marker": {
             "colorbar": {
              "outlinewidth": 0,
              "ticks": ""
             }
            },
            "type": "scatterpolargl"
           }
          ],
          "scatterternary": [
           {
            "marker": {
             "colorbar": {
              "outlinewidth": 0,
              "ticks": ""
             }
            },
            "type": "scatterternary"
           }
          ],
          "surface": [
           {
            "colorbar": {
             "outlinewidth": 0,
             "ticks": ""
            },
            "colorscale": [
             [
              0,
              "#0d0887"
             ],
             [
              0.1111111111111111,
              "#46039f"
             ],
             [
              0.2222222222222222,
              "#7201a8"
             ],
             [
              0.3333333333333333,
              "#9c179e"
             ],
             [
              0.4444444444444444,
              "#bd3786"
             ],
             [
              0.5555555555555556,
              "#d8576b"
             ],
             [
              0.6666666666666666,
              "#ed7953"
             ],
             [
              0.7777777777777778,
              "#fb9f3a"
             ],
             [
              0.8888888888888888,
              "#fdca26"
             ],
             [
              1,
              "#f0f921"
             ]
            ],
            "type": "surface"
           }
          ],
          "table": [
           {
            "cells": {
             "fill": {
              "color": "#EBF0F8"
             },
             "line": {
              "color": "white"
             }
            },
            "header": {
             "fill": {
              "color": "#C8D4E3"
             },
             "line": {
              "color": "white"
             }
            },
            "type": "table"
           }
          ]
         },
         "layout": {
          "annotationdefaults": {
           "arrowcolor": "#2a3f5f",
           "arrowhead": 0,
           "arrowwidth": 1
          },
          "autotypenumbers": "strict",
          "coloraxis": {
           "colorbar": {
            "outlinewidth": 0,
            "ticks": ""
           }
          },
          "colorscale": {
           "diverging": [
            [
             0,
             "#8e0152"
            ],
            [
             0.1,
             "#c51b7d"
            ],
            [
             0.2,
             "#de77ae"
            ],
            [
             0.3,
             "#f1b6da"
            ],
            [
             0.4,
             "#fde0ef"
            ],
            [
             0.5,
             "#f7f7f7"
            ],
            [
             0.6,
             "#e6f5d0"
            ],
            [
             0.7,
             "#b8e186"
            ],
            [
             0.8,
             "#7fbc41"
            ],
            [
             0.9,
             "#4d9221"
            ],
            [
             1,
             "#276419"
            ]
           ],
           "sequential": [
            [
             0,
             "#0d0887"
            ],
            [
             0.1111111111111111,
             "#46039f"
            ],
            [
             0.2222222222222222,
             "#7201a8"
            ],
            [
             0.3333333333333333,
             "#9c179e"
            ],
            [
             0.4444444444444444,
             "#bd3786"
            ],
            [
             0.5555555555555556,
             "#d8576b"
            ],
            [
             0.6666666666666666,
             "#ed7953"
            ],
            [
             0.7777777777777778,
             "#fb9f3a"
            ],
            [
             0.8888888888888888,
             "#fdca26"
            ],
            [
             1,
             "#f0f921"
            ]
           ],
           "sequentialminus": [
            [
             0,
             "#0d0887"
            ],
            [
             0.1111111111111111,
             "#46039f"
            ],
            [
             0.2222222222222222,
             "#7201a8"
            ],
            [
             0.3333333333333333,
             "#9c179e"
            ],
            [
             0.4444444444444444,
             "#bd3786"
            ],
            [
             0.5555555555555556,
             "#d8576b"
            ],
            [
             0.6666666666666666,
             "#ed7953"
            ],
            [
             0.7777777777777778,
             "#fb9f3a"
            ],
            [
             0.8888888888888888,
             "#fdca26"
            ],
            [
             1,
             "#f0f921"
            ]
           ]
          },
          "colorway": [
           "#636efa",
           "#EF553B",
           "#00cc96",
           "#ab63fa",
           "#FFA15A",
           "#19d3f3",
           "#FF6692",
           "#B6E880",
           "#FF97FF",
           "#FECB52"
          ],
          "font": {
           "color": "#2a3f5f"
          },
          "geo": {
           "bgcolor": "white",
           "lakecolor": "white",
           "landcolor": "white",
           "showlakes": true,
           "showland": true,
           "subunitcolor": "#C8D4E3"
          },
          "hoverlabel": {
           "align": "left"
          },
          "hovermode": "closest",
          "mapbox": {
           "style": "light"
          },
          "paper_bgcolor": "white",
          "plot_bgcolor": "white",
          "polar": {
           "angularaxis": {
            "gridcolor": "#EBF0F8",
            "linecolor": "#EBF0F8",
            "ticks": ""
           },
           "bgcolor": "white",
           "radialaxis": {
            "gridcolor": "#EBF0F8",
            "linecolor": "#EBF0F8",
            "ticks": ""
           }
          },
          "scene": {
           "xaxis": {
            "backgroundcolor": "white",
            "gridcolor": "#DFE8F3",
            "gridwidth": 2,
            "linecolor": "#EBF0F8",
            "showbackground": true,
            "ticks": "",
            "zerolinecolor": "#EBF0F8"
           },
           "yaxis": {
            "backgroundcolor": "white",
            "gridcolor": "#DFE8F3",
            "gridwidth": 2,
            "linecolor": "#EBF0F8",
            "showbackground": true,
            "ticks": "",
            "zerolinecolor": "#EBF0F8"
           },
           "zaxis": {
            "backgroundcolor": "white",
            "gridcolor": "#DFE8F3",
            "gridwidth": 2,
            "linecolor": "#EBF0F8",
            "showbackground": true,
            "ticks": "",
            "zerolinecolor": "#EBF0F8"
           }
          },
          "shapedefaults": {
           "line": {
            "color": "#2a3f5f"
           }
          },
          "ternary": {
           "aaxis": {
            "gridcolor": "#DFE8F3",
            "linecolor": "#A2B1C6",
            "ticks": ""
           },
           "baxis": {
            "gridcolor": "#DFE8F3",
            "linecolor": "#A2B1C6",
            "ticks": ""
           },
           "bgcolor": "white",
           "caxis": {
            "gridcolor": "#DFE8F3",
            "linecolor": "#A2B1C6",
            "ticks": ""
           }
          },
          "title": {
           "x": 0.05
          },
          "xaxis": {
           "automargin": true,
           "gridcolor": "#EBF0F8",
           "linecolor": "#EBF0F8",
           "ticks": "",
           "title": {
            "standoff": 15
           },
           "zerolinecolor": "#EBF0F8",
           "zerolinewidth": 2
          },
          "yaxis": {
           "automargin": true,
           "gridcolor": "#EBF0F8",
           "linecolor": "#EBF0F8",
           "ticks": "",
           "title": {
            "standoff": 15
           },
           "zerolinecolor": "#EBF0F8",
           "zerolinewidth": 2
          }
         }
        },
        "title": {
         "text": "Daily Energy Consumption"
        },
        "xaxis": {
         "title": {
          "text": "Date"
         }
        },
        "yaxis": {
         "title": {
          "text": "Energy Consumption (kWh per day)"
         }
        }
       }
      }
     },
     "metadata": {},
     "output_type": "display_data"
    }
   ],
   "source": [
    "import plotly.graph_objects as go\n",
    "\n",
    "# INITIALIZE GRAPH OBJECT\n",
    "fig = go.Figure()\n",
    "\n",
    "# TRACE-1: Fridge measurement\n",
    "fig.add_trace(\n",
    "    go.Scatter(\n",
    "        x=df_combined[\"date\"],\n",
    "        y=df_combined[\"Fridge measurement\"],\n",
    "        mode=\"lines+markers\",\n",
    "        marker=dict(\n",
    "            size=5,\n",
    "            symbol=\"circle\",\n",
    "            line=dict(color=\"DarkBlue\", width=1),\n",
    "        ),\n",
    "        line=dict(color=\"blue\", width=1.5),\n",
    "        name=\"Fridge\",\n",
    "        visible=True,\n",
    "    )\n",
    ")\n",
    "\n",
    "# TRACE-2: Kitchen appliances measurement\n",
    "fig.add_trace(\n",
    "    go.Scatter(\n",
    "        x=df_combined[\"date\"],\n",
    "        y=df_combined[\"Kitchen appliances measurement\"],\n",
    "        mode=\"lines+markers\",\n",
    "        marker=dict(\n",
    "            size=5,\n",
    "            symbol=\"square\",\n",
    "            line=dict(color=\"DarkGreen\", width=1),\n",
    "        ),\n",
    "        line=dict(color=\"green\", width=1.5, dash=\"dot\"),\n",
    "        name=\"Kitchen appliances\",\n",
    "        visible=True,\n",
    "    )\n",
    ")\n",
    "\n",
    "# TRACE-3: Microwave measurement\n",
    "fig.add_trace(\n",
    "    go.Scatter(\n",
    "        x=df_combined[\"date\"],\n",
    "        y=df_combined[\"Microwave measurement\"],\n",
    "        mode=\"lines+markers\",\n",
    "        marker=dict(\n",
    "            size=5,\n",
    "            symbol=\"diamond\",\n",
    "            line=dict(color=\"DarkRed\", width=1),\n",
    "        ),\n",
    "        line=dict(color=\"red\", width=1.5, dash=\"dash\"),\n",
    "        name=\"Microwave\",\n",
    "        visible=True,\n",
    "    )\n",
    ")\n",
    "\n",
    "# SET THEME, AXIS LABELS\n",
    "fig.update_layout(\n",
    "    template=\"plotly_white\",\n",
    "    xaxis_title=\"Date\",\n",
    "    yaxis_title=\"Energy Consumption (kWh per day)\",\n",
    "    title=\"Daily Energy Consumption\",\n",
    ")\n",
    "\n",
    "\n",
    "fig.show()\n"
   ]
  },
  {
   "attachments": {},
   "cell_type": "markdown",
   "metadata": {},
   "source": [
    "Fridge: The electricity consumption of a fridge varies over time in households depending on its age, size, and energy efficiency. In general, older fridges and larger fridges consume more electricity than newer and smaller fridges. The data provided shows that the average electricity consumption of a fridge in a household is around 1-2 kWh per day.\n",
    "\n",
    "Kitchen appliances: the coffee machine, bread baking machine, and toaster were connected to the same electrical outlet or circuit, then they would be consuming electricity from the same source. This means that the total electricity consumption of these appliances combined would be higher than if they were used separately, as there may be some energy loss due to inefficiencies in the circuit or outlet. It is also important to note that the specific electricity consumption of each appliance may vary depending on factors such as usage time and energy efficiency.\n",
    "\n",
    "Microwave: The electricity consumption of a microwave oven is relatively low compared to other kitchen appliances. The data provided shows that the average electricity consumption of a microwave in a household is around 0.1-0.2 kWh per day.\n",
    "\n",
    "In conclusion, the electricity consumption of different appliances, especially in the kitchen, varies over time in households depending on various factors such as age, size, and energy efficiency. It is important for households to consider these factors when purchasing new appliances and to use them efficiently to reduce their overall energy consumption."
   ]
  },
  {
   "attachments": {},
   "cell_type": "markdown",
   "metadata": {},
   "source": [
    "References\n",
    "======"
   ]
  }
 ],
 "metadata": {
  "kernelspec": {
   "display_name": "base",
   "language": "python",
   "name": "python3"
  },
  "language_info": {
   "codemirror_mode": {
    "name": "ipython",
    "version": 3
   },
   "file_extension": ".py",
   "mimetype": "text/x-python",
   "name": "python",
   "nbconvert_exporter": "python",
   "pygments_lexer": "ipython3",
   "version": "3.9.13"
  },
  "orig_nbformat": 4
 },
 "nbformat": 4,
 "nbformat_minor": 2
}
